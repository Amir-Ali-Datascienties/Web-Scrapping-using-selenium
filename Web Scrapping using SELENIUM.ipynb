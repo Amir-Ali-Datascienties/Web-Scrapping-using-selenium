{
 "cells": [
  {
   "cell_type": "code",
   "execution_count": 1,
   "metadata": {},
   "outputs": [],
   "source": [
    "#pip install selenium"
   ]
  },
  {
   "cell_type": "code",
   "execution_count": 2,
   "metadata": {},
   "outputs": [],
   "source": [
    "#import all the importan libraries\n",
    "import selenium\n",
    "import pandas as pd\n",
    "from selenium import webdriver\n",
    "from selenium.webdriver.common.by import By\n",
    "import warnings\n",
    "warnings.filterwarnings('ignore')\n",
    "from selenium.common.exceptions import StaleElementReferenceException, NoSuchElementException\n",
    "#from selenium.common.exceptions import NoSuchElelementException\n",
    "import time"
   ]
  },
  {
   "cell_type": "code",
   "execution_count": 3,
   "metadata": {},
   "outputs": [],
   "source": [
    "#first connect to the web driver\n",
    "driver = webdriver.Chrome(r\"D:\\Amir Ali\\E Drive data\\Software\\Chrome web driver\\chromedriver.exe\")\n",
    "#this should open a chrome web browser window"
   ]
  },
  {
   "cell_type": "code",
   "execution_count": 4,
   "metadata": {},
   "outputs": [],
   "source": [
    "#seccond method to connect with web browser\n",
    "#driver = webdriver.chrome(r\"chromedriver.exe\") # for this we need to upload pakage at homepage of jupyter"
   ]
  },
  {
   "cell_type": "markdown",
   "metadata": {},
   "source": [
    "Q1: Write a python program to scrape data for “Data Analyst” Job position in “Bangalore” location. You\n",
    "have to scrape the job-title, job-location, company_name, experience_required. You have to scrape first 10\n",
    "jobs data"
   ]
  },
  {
   "cell_type": "markdown",
   "metadata": {},
   "source": [
    "1. First get the webpage https://www.naukri.com/"
   ]
  },
  {
   "cell_type": "code",
   "execution_count": 5,
   "metadata": {},
   "outputs": [],
   "source": [
    "driver.get(\"https://www.naukri.com/\")\n",
    "time.sleep(2)"
   ]
  },
  {
   "cell_type": "markdown",
   "metadata": {},
   "source": [
    "2. Enter “Data Analyst” in “Skill, Designations, Companies” field and enter “Bangalore” in “enter the\n",
    "location” field"
   ]
  },
  {
   "cell_type": "code",
   "execution_count": 6,
   "metadata": {},
   "outputs": [],
   "source": [
    "designation = driver.find_element(By.CLASS_NAME,\"suggestor-input \")#In the designation variable we fetch input field by its class Name\n",
    "designation.send_keys('Data Analyst')# in the fetched input field we pass \"Data Analyst\" by using 'send_keys'"
   ]
  },
  {
   "cell_type": "code",
   "execution_count": 7,
   "metadata": {},
   "outputs": [],
   "source": [
    "#lets put location\n",
    "location = driver.find_element(By.XPATH, \"/html/body/div[1]/div[6]/div/div/div[5]/div/div/div/input\")\n",
    "location.send_keys(\"Bangalore\")"
   ]
  },
  {
   "cell_type": "markdown",
   "metadata": {},
   "source": [
    "3. Then click the search button"
   ]
  },
  {
   "cell_type": "code",
   "execution_count": 8,
   "metadata": {},
   "outputs": [],
   "source": [
    "search = driver.find_element(By.CLASS_NAME, \"qsbSubmit\")#selecting Search button by Class Name\n",
    "search.click() #run the search by clicking on search button\n",
    "time.sleep(3)"
   ]
  },
  {
   "cell_type": "markdown",
   "metadata": {},
   "source": [
    "4. Then scrape the data for the first 10 jobs results you get."
   ]
  },
  {
   "cell_type": "code",
   "execution_count": 9,
   "metadata": {},
   "outputs": [],
   "source": [
    "#lets create empty list for every desired variable\n",
    "designation_list = []\n",
    "location_list = []\n",
    "experience_list = []\n",
    "company_list = []"
   ]
  },
  {
   "cell_type": "code",
   "execution_count": 10,
   "metadata": {},
   "outputs": [
    {
     "name": "stdout",
     "output_type": "stream",
     "text": [
      "10 10 10 10\n"
     ]
    }
   ],
   "source": [
    "#Lets first fetch designation data\n",
    "\n",
    "title_tag = driver.find_elements(By.XPATH, \"//a[@class = 'title fw500 ellipsis']\")\n",
    "for i in title_tag[0:10]:\n",
    "    title = i.text\n",
    "    designation_list.append(title)\n",
    "#print(designation_list)\n",
    "    \n",
    "#designation_list\n",
    "\n",
    "company_tag = driver.find_elements(By.XPATH,'//a[@class = \"subTitle ellipsis fleft\"]')\n",
    "for i in company_tag[0:10]:\n",
    "    company = i.text\n",
    "    company_list.append(company)\n",
    "#company_list\n",
    "\n",
    "exp_tag = driver.find_elements(By.XPATH, '//li[@class = \"fleft grey-text br2 placeHolderLi experience\"]//span')\n",
    "for i in exp_tag[0:10]:\n",
    "    experience = i.text\n",
    "    experience_list.append(experience)\n",
    "#print(experience_list)\n",
    "\n",
    "location_tag = driver.find_elements(By.XPATH, '//li[@class = \"fleft grey-text br2 placeHolderLi location\"]//span')\n",
    "for i in location_tag[0:10]:\n",
    "    loc = i.text\n",
    "    location_list.append(loc)\n",
    "#print(location_list)\n",
    "\n",
    "print(len(designation_list),len(location_list),len(experience_list),len(company_list))"
   ]
  },
  {
   "cell_type": "code",
   "execution_count": 11,
   "metadata": {},
   "outputs": [
    {
     "data": {
      "text/html": [
       "<div>\n",
       "<style scoped>\n",
       "    .dataframe tbody tr th:only-of-type {\n",
       "        vertical-align: middle;\n",
       "    }\n",
       "\n",
       "    .dataframe tbody tr th {\n",
       "        vertical-align: top;\n",
       "    }\n",
       "\n",
       "    .dataframe thead th {\n",
       "        text-align: right;\n",
       "    }\n",
       "</style>\n",
       "<table border=\"1\" class=\"dataframe\">\n",
       "  <thead>\n",
       "    <tr style=\"text-align: right;\">\n",
       "      <th></th>\n",
       "      <th>Designation</th>\n",
       "      <th>Company Name</th>\n",
       "      <th>Experience</th>\n",
       "      <th>Location</th>\n",
       "    </tr>\n",
       "  </thead>\n",
       "  <tbody>\n",
       "    <tr>\n",
       "      <th>0</th>\n",
       "      <td>Data Analyst</td>\n",
       "      <td>Namdhari Seeds</td>\n",
       "      <td>0-2 Yrs</td>\n",
       "      <td>Bangalore/Bengaluru</td>\n",
       "    </tr>\n",
       "    <tr>\n",
       "      <th>1</th>\n",
       "      <td>Business Analyst/ Sr. Data Analyst</td>\n",
       "      <td>Zen Data Shastra Llp</td>\n",
       "      <td>2-6 Yrs</td>\n",
       "      <td>Hybrid - Bangalore/Bengaluru(Whitefield)</td>\n",
       "    </tr>\n",
       "    <tr>\n",
       "      <th>2</th>\n",
       "      <td>Senior Data Analyst - Applied Analytics</td>\n",
       "      <td>IBM</td>\n",
       "      <td>2-6 Yrs</td>\n",
       "      <td>Bangalore/Bengaluru</td>\n",
       "    </tr>\n",
       "    <tr>\n",
       "      <th>3</th>\n",
       "      <td>Business Data Analysts</td>\n",
       "      <td>Zscaler Softech</td>\n",
       "      <td>5-10 Yrs</td>\n",
       "      <td>Bangalore/Bengaluru</td>\n",
       "    </tr>\n",
       "    <tr>\n",
       "      <th>4</th>\n",
       "      <td>Business Data Analysts</td>\n",
       "      <td>Zscaler Softech</td>\n",
       "      <td>5-10 Yrs</td>\n",
       "      <td>Bangalore/Bengaluru</td>\n",
       "    </tr>\n",
       "    <tr>\n",
       "      <th>5</th>\n",
       "      <td>Data Analyst</td>\n",
       "      <td>Treebo Hotels</td>\n",
       "      <td>1-2 Yrs</td>\n",
       "      <td>Permanent Remote</td>\n",
       "    </tr>\n",
       "    <tr>\n",
       "      <th>6</th>\n",
       "      <td>Assistant Manager/Manager - Data Analyst - Ana...</td>\n",
       "      <td>Huquo Consulting Pvt. Ltd</td>\n",
       "      <td>6-11 Yrs</td>\n",
       "      <td>Bangalore/Bengaluru, Delhi / NCR</td>\n",
       "    </tr>\n",
       "    <tr>\n",
       "      <th>7</th>\n",
       "      <td>Data Analyst</td>\n",
       "      <td>Optum</td>\n",
       "      <td>2-5 Yrs</td>\n",
       "      <td>Bangalore/Bengaluru</td>\n",
       "    </tr>\n",
       "    <tr>\n",
       "      <th>8</th>\n",
       "      <td>Data Analyst 1</td>\n",
       "      <td>Optum</td>\n",
       "      <td>5-7 Yrs</td>\n",
       "      <td>Bangalore/Bengaluru</td>\n",
       "    </tr>\n",
       "    <tr>\n",
       "      <th>9</th>\n",
       "      <td>Sr. Data Analyst</td>\n",
       "      <td>Inspira Enterprise India</td>\n",
       "      <td>3-4 Yrs</td>\n",
       "      <td>Bangalore/Bengaluru</td>\n",
       "    </tr>\n",
       "  </tbody>\n",
       "</table>\n",
       "</div>"
      ],
      "text/plain": [
       "                                         Designation  \\\n",
       "0                                       Data Analyst   \n",
       "1                 Business Analyst/ Sr. Data Analyst   \n",
       "2            Senior Data Analyst - Applied Analytics   \n",
       "3                             Business Data Analysts   \n",
       "4                             Business Data Analysts   \n",
       "5                                       Data Analyst   \n",
       "6  Assistant Manager/Manager - Data Analyst - Ana...   \n",
       "7                                       Data Analyst   \n",
       "8                                     Data Analyst 1   \n",
       "9                                   Sr. Data Analyst   \n",
       "\n",
       "                Company Name Experience  \\\n",
       "0             Namdhari Seeds    0-2 Yrs   \n",
       "1       Zen Data Shastra Llp    2-6 Yrs   \n",
       "2                        IBM    2-6 Yrs   \n",
       "3            Zscaler Softech   5-10 Yrs   \n",
       "4            Zscaler Softech   5-10 Yrs   \n",
       "5              Treebo Hotels    1-2 Yrs   \n",
       "6  Huquo Consulting Pvt. Ltd   6-11 Yrs   \n",
       "7                      Optum    2-5 Yrs   \n",
       "8                      Optum    5-7 Yrs   \n",
       "9   Inspira Enterprise India    3-4 Yrs   \n",
       "\n",
       "                                   Location  \n",
       "0                       Bangalore/Bengaluru  \n",
       "1  Hybrid - Bangalore/Bengaluru(Whitefield)  \n",
       "2                       Bangalore/Bengaluru  \n",
       "3                       Bangalore/Bengaluru  \n",
       "4                       Bangalore/Bengaluru  \n",
       "5                          Permanent Remote  \n",
       "6          Bangalore/Bengaluru, Delhi / NCR  \n",
       "7                       Bangalore/Bengaluru  \n",
       "8                       Bangalore/Bengaluru  \n",
       "9                       Bangalore/Bengaluru  "
      ]
     },
     "execution_count": 11,
     "metadata": {},
     "output_type": "execute_result"
    }
   ],
   "source": [
    "# lets create a dataframe for the fetched data\n",
    "df = pd.DataFrame({'Designation':designation_list, 'Company Name':company_list, 'Experience':experience_list, 'Location':location_list})\n",
    "df"
   ]
  },
  {
   "cell_type": "markdown",
   "metadata": {},
   "source": [
    "Q2:Write a python program to scrape data for “Data Scientist” Job position in “Bangalore” location. You\n",
    "have to scrape the job-title, job-location, company_name. You have to scrape first 10 jobs data.\n",
    "This task will be done in following steps:"
   ]
  },
  {
   "cell_type": "code",
   "execution_count": 12,
   "metadata": {},
   "outputs": [],
   "source": [
    "drive_r = webdriver.Chrome(r\"D:\\Amir Ali\\E Drive data\\Software\\Chrome web driver\\chromedriver.exe\")"
   ]
  },
  {
   "cell_type": "markdown",
   "metadata": {},
   "source": [
    "1. First get the webpage https://www.naukri.com/"
   ]
  },
  {
   "cell_type": "code",
   "execution_count": 13,
   "metadata": {},
   "outputs": [],
   "source": [
    "drive_r.get(\"https://naukri.com/\")\n",
    "time.sleep(2)"
   ]
  },
  {
   "cell_type": "markdown",
   "metadata": {},
   "source": [
    "2. Enter “Data Scientist” in “Skill, Designations, Companies” field and enter “Bangalore” in “enter the\n",
    "location” field."
   ]
  },
  {
   "cell_type": "code",
   "execution_count": 14,
   "metadata": {},
   "outputs": [],
   "source": [
    "desig1 = drive_r.find_element(By.CLASS_NAME, \"suggestor-input \")\n",
    "desig1.send_keys(\"Data Scientist\")"
   ]
  },
  {
   "cell_type": "code",
   "execution_count": 15,
   "metadata": {},
   "outputs": [],
   "source": [
    "loc1 = drive_r.find_element(By.XPATH, \"/html/body/div[1]/div[6]/div/div/div[5]/div/div/div/input\") \n",
    "loc1.send_keys(\"Banglore\")"
   ]
  },
  {
   "cell_type": "code",
   "execution_count": 16,
   "metadata": {},
   "outputs": [],
   "source": [
    "search1 = drive_r.find_element(By.CLASS_NAME,\"qsbSubmit\")\n",
    "search1.click()\n",
    "time.sleep(3)"
   ]
  },
  {
   "cell_type": "markdown",
   "metadata": {},
   "source": [
    "4. Then scrape the data for the first 10 jobs results you get"
   ]
  },
  {
   "cell_type": "code",
   "execution_count": 17,
   "metadata": {},
   "outputs": [],
   "source": [
    "#lests create empty lists to store the desire elements\n",
    "desg1 = []\n",
    "comp1 = []\n",
    "exp1 = []\n",
    "location1 = []\n"
   ]
  },
  {
   "cell_type": "code",
   "execution_count": 18,
   "metadata": {},
   "outputs": [
    {
     "name": "stdout",
     "output_type": "stream",
     "text": [
      "['Data Scientist', 'Analystics & Modeling Specialist', 'Manager', 'Principal Data Scientist', 'Senior Data Scientist', 'DATA SCIENTIST III', 'Data Scientist', 'Senior Data Scientist', 'Data Scientist', 'Data & Analytics Lead, Geo Analytics - GAMMA']\n"
     ]
    }
   ],
   "source": [
    "#designtiona \n",
    "desig1_tag = drive_r.find_elements(By.XPATH, '//a[@class = \"title fw500 ellipsis\"]')\n",
    "for i in desig1_tag[0:10]:\n",
    "    title = i.text\n",
    "    desg1.append(title)\n",
    "print(desg1)"
   ]
  },
  {
   "cell_type": "code",
   "execution_count": 19,
   "metadata": {},
   "outputs": [
    {
     "name": "stdout",
     "output_type": "stream",
     "text": [
      "['Birlasoft', 'Accenture', 'PwC', 'Optum', 'Optum', 'Walmart', 'Mindtree', 'Baker Hughes', 'Infosys', 'Boston Consulting Group']\n"
     ]
    }
   ],
   "source": [
    "comp= drive_r.find_elements(By.XPATH,'//a[@class = \"subTitle ellipsis fleft\"]')\n",
    "for i in comp[0:10]:\n",
    "    compname = i.text\n",
    "    comp1.append(compname)\n",
    "print(comp1) "
   ]
  },
  {
   "cell_type": "code",
   "execution_count": 20,
   "metadata": {},
   "outputs": [
    {
     "name": "stdout",
     "output_type": "stream",
     "text": [
      "['8-12 Yrs', '6-8 Yrs', '7-9 Yrs', '10-15 Yrs', '5-7 Yrs', '4-7 Yrs', '5-10 Yrs', '6-8 Yrs', '3-5 Yrs', '7-10 Yrs']\n"
     ]
    }
   ],
   "source": [
    "expe = drive_r.find_elements(By.XPATH,\"//li[@class = 'fleft grey-text br2 placeHolderLi experience']/span\")\n",
    "for i in expe[0:10]:\n",
    "    experience = i.text\n",
    "    exp1.append(experience)\n",
    "print(exp1)"
   ]
  },
  {
   "cell_type": "code",
   "execution_count": 21,
   "metadata": {},
   "outputs": [
    {
     "data": {
      "text/plain": [
       "['Hybrid - Noida, Hyderabad/Secunderabad, Pune, Chennai, Bangalore/Bengaluru, Mumbai (All Areas)',\n",
       " 'Kolkata, Mumbai, Hyderabad/Secunderabad, Pune, Chennai, Bangalore/Bengaluru',\n",
       " 'Mumbai, Hyderabad/Secunderabad, Bangalore/Bengaluru',\n",
       " 'Bangalore/Bengaluru',\n",
       " 'Bangalore/Bengaluru',\n",
       " 'Bangalore/Bengaluru',\n",
       " 'Hybrid - Noida, Kolkata, Hyderabad/Secunderabad, Pune, Chennai, Bangalore/Bengaluru',\n",
       " 'Mumbai, Bangalore/Bengaluru',\n",
       " 'Bangalore/Bengaluru',\n",
       " 'Bangalore/Bengaluru']"
      ]
     },
     "execution_count": 21,
     "metadata": {},
     "output_type": "execute_result"
    }
   ],
   "source": [
    "loc1 = drive_r.find_elements(By.XPATH,\"//li[@class = 'fleft grey-text br2 placeHolderLi location']/span\")\n",
    "for i in loc1[0:10]:\n",
    "    location = i.text\n",
    "    location1.append(location)\n",
    "location1"
   ]
  },
  {
   "cell_type": "code",
   "execution_count": 22,
   "metadata": {},
   "outputs": [
    {
     "data": {
      "text/html": [
       "<div>\n",
       "<style scoped>\n",
       "    .dataframe tbody tr th:only-of-type {\n",
       "        vertical-align: middle;\n",
       "    }\n",
       "\n",
       "    .dataframe tbody tr th {\n",
       "        vertical-align: top;\n",
       "    }\n",
       "\n",
       "    .dataframe thead th {\n",
       "        text-align: right;\n",
       "    }\n",
       "</style>\n",
       "<table border=\"1\" class=\"dataframe\">\n",
       "  <thead>\n",
       "    <tr style=\"text-align: right;\">\n",
       "      <th></th>\n",
       "      <th>Designarion</th>\n",
       "      <th>Company Name</th>\n",
       "      <th>Experience</th>\n",
       "      <th>Location</th>\n",
       "    </tr>\n",
       "  </thead>\n",
       "  <tbody>\n",
       "    <tr>\n",
       "      <th>0</th>\n",
       "      <td>Data Scientist</td>\n",
       "      <td>Birlasoft</td>\n",
       "      <td>8-12 Yrs</td>\n",
       "      <td>Hybrid - Noida, Hyderabad/Secunderabad, Pune, ...</td>\n",
       "    </tr>\n",
       "    <tr>\n",
       "      <th>1</th>\n",
       "      <td>Analystics &amp; Modeling Specialist</td>\n",
       "      <td>Accenture</td>\n",
       "      <td>6-8 Yrs</td>\n",
       "      <td>Kolkata, Mumbai, Hyderabad/Secunderabad, Pune,...</td>\n",
       "    </tr>\n",
       "    <tr>\n",
       "      <th>2</th>\n",
       "      <td>Manager</td>\n",
       "      <td>PwC</td>\n",
       "      <td>7-9 Yrs</td>\n",
       "      <td>Mumbai, Hyderabad/Secunderabad, Bangalore/Beng...</td>\n",
       "    </tr>\n",
       "    <tr>\n",
       "      <th>3</th>\n",
       "      <td>Principal Data Scientist</td>\n",
       "      <td>Optum</td>\n",
       "      <td>10-15 Yrs</td>\n",
       "      <td>Bangalore/Bengaluru</td>\n",
       "    </tr>\n",
       "    <tr>\n",
       "      <th>4</th>\n",
       "      <td>Senior Data Scientist</td>\n",
       "      <td>Optum</td>\n",
       "      <td>5-7 Yrs</td>\n",
       "      <td>Bangalore/Bengaluru</td>\n",
       "    </tr>\n",
       "    <tr>\n",
       "      <th>5</th>\n",
       "      <td>DATA SCIENTIST III</td>\n",
       "      <td>Walmart</td>\n",
       "      <td>4-7 Yrs</td>\n",
       "      <td>Bangalore/Bengaluru</td>\n",
       "    </tr>\n",
       "    <tr>\n",
       "      <th>6</th>\n",
       "      <td>Data Scientist</td>\n",
       "      <td>Mindtree</td>\n",
       "      <td>5-10 Yrs</td>\n",
       "      <td>Hybrid - Noida, Kolkata, Hyderabad/Secunderaba...</td>\n",
       "    </tr>\n",
       "    <tr>\n",
       "      <th>7</th>\n",
       "      <td>Senior Data Scientist</td>\n",
       "      <td>Baker Hughes</td>\n",
       "      <td>6-8 Yrs</td>\n",
       "      <td>Mumbai, Bangalore/Bengaluru</td>\n",
       "    </tr>\n",
       "    <tr>\n",
       "      <th>8</th>\n",
       "      <td>Data Scientist</td>\n",
       "      <td>Infosys</td>\n",
       "      <td>3-5 Yrs</td>\n",
       "      <td>Bangalore/Bengaluru</td>\n",
       "    </tr>\n",
       "    <tr>\n",
       "      <th>9</th>\n",
       "      <td>Data &amp; Analytics Lead, Geo Analytics - GAMMA</td>\n",
       "      <td>Boston Consulting Group</td>\n",
       "      <td>7-10 Yrs</td>\n",
       "      <td>Bangalore/Bengaluru</td>\n",
       "    </tr>\n",
       "  </tbody>\n",
       "</table>\n",
       "</div>"
      ],
      "text/plain": [
       "                                    Designarion             Company Name  \\\n",
       "0                                Data Scientist                Birlasoft   \n",
       "1              Analystics & Modeling Specialist                Accenture   \n",
       "2                                       Manager                      PwC   \n",
       "3                      Principal Data Scientist                    Optum   \n",
       "4                         Senior Data Scientist                    Optum   \n",
       "5                            DATA SCIENTIST III                  Walmart   \n",
       "6                                Data Scientist                 Mindtree   \n",
       "7                         Senior Data Scientist             Baker Hughes   \n",
       "8                                Data Scientist                  Infosys   \n",
       "9  Data & Analytics Lead, Geo Analytics - GAMMA  Boston Consulting Group   \n",
       "\n",
       "  Experience                                           Location  \n",
       "0   8-12 Yrs  Hybrid - Noida, Hyderabad/Secunderabad, Pune, ...  \n",
       "1    6-8 Yrs  Kolkata, Mumbai, Hyderabad/Secunderabad, Pune,...  \n",
       "2    7-9 Yrs  Mumbai, Hyderabad/Secunderabad, Bangalore/Beng...  \n",
       "3  10-15 Yrs                                Bangalore/Bengaluru  \n",
       "4    5-7 Yrs                                Bangalore/Bengaluru  \n",
       "5    4-7 Yrs                                Bangalore/Bengaluru  \n",
       "6   5-10 Yrs  Hybrid - Noida, Kolkata, Hyderabad/Secunderaba...  \n",
       "7    6-8 Yrs                        Mumbai, Bangalore/Bengaluru  \n",
       "8    3-5 Yrs                                Bangalore/Bengaluru  \n",
       "9   7-10 Yrs                                Bangalore/Bengaluru  "
      ]
     },
     "execution_count": 22,
     "metadata": {},
     "output_type": "execute_result"
    }
   ],
   "source": [
    "df = pd.DataFrame({\"Designarion\":desg1, \"Company Name\":comp1, \"Experience\":exp1, \"Location\":location1})\n",
    "df"
   ]
  },
  {
   "cell_type": "code",
   "execution_count": 23,
   "metadata": {},
   "outputs": [],
   "source": [
    "driv_er = webdriver.Chrome(r\"D:\\chromedriver.exe\")"
   ]
  },
  {
   "cell_type": "markdown",
   "metadata": {},
   "source": [
    "Q3: In this question you have to scrape data using the filters available on the webpage as shown below:"
   ]
  },
  {
   "cell_type": "markdown",
   "metadata": {},
   "source": [
    "1. first get the webpage https://www.naukri.com"
   ]
  },
  {
   "cell_type": "code",
   "execution_count": 24,
   "metadata": {},
   "outputs": [],
   "source": [
    "driv_er.get(\"https://www.naukri.com/\")\n",
    "time.sleep(3)"
   ]
  },
  {
   "cell_type": "markdown",
   "metadata": {},
   "source": [
    "2. Enter “Data Scientist” in “Skill, Designations, and Companies” field"
   ]
  },
  {
   "cell_type": "code",
   "execution_count": 25,
   "metadata": {},
   "outputs": [],
   "source": [
    "designation = driv_er.find_element(By.CLASS_NAME,\"suggestor-input \")\n",
    "designation.send_keys(\"Data Scientist\")"
   ]
  },
  {
   "cell_type": "markdown",
   "metadata": {},
   "source": [
    "3. Then click the search button"
   ]
  },
  {
   "cell_type": "code",
   "execution_count": 26,
   "metadata": {},
   "outputs": [],
   "source": [
    "search = driv_er.find_element(By.CLASS_NAME,\"qsbSubmit\")\n",
    "search.click()\n",
    "time.sleep(3)"
   ]
  },
  {
   "cell_type": "markdown",
   "metadata": {},
   "source": [
    "4. Then apply the location filter and salary filter by checking the respective boxes"
   ]
  },
  {
   "cell_type": "code",
   "execution_count": 29,
   "metadata": {},
   "outputs": [],
   "source": [
    "loc_filter = driv_er.find_element(By.XPATH,\"/html/body/div[1]/div[4]/div/div/section[1]/div[2]/div[2]/div[2]/div[1]/label/i\")\n",
    "loc_filter.click()\n",
    "time.sleep(2)\n"
   ]
  },
  {
   "cell_type": "code",
   "execution_count": 30,
   "metadata": {},
   "outputs": [],
   "source": [
    "loc_filter2 = driv_er.find_element(By.XPATH,\"/html/body/div[1]/div[4]/div/div/section[1]/div[2]/div[2]/div[2]/div[2]/label/i\")\n",
    "loc_filter2.click()\n",
    "time.sleep(2)"
   ]
  },
  {
   "cell_type": "code",
   "execution_count": 31,
   "metadata": {},
   "outputs": [],
   "source": [
    "sal_filter1 = driv_er.find_element(By.XPATH,\"/html/body/div[1]/div[4]/div/div/section[1]/div[2]/div[6]/div[2]/div[1]/label/i\")\n",
    "sal_filter1.click()\n",
    "time.sleep(1)"
   ]
  },
  {
   "cell_type": "code",
   "execution_count": 32,
   "metadata": {},
   "outputs": [],
   "source": [
    "sal_filter2 = driv_er.find_element(By.XPATH,\"/html/body/div[1]/div[4]/div/div/section[1]/div[2]/div[6]/div[2]/div[2]/label/i\")\n",
    "sal_filter2.click()\n",
    "time.sleep(1)"
   ]
  },
  {
   "cell_type": "markdown",
   "metadata": {},
   "source": [
    "5. Then scrape the data for the first 10 jobs results you get"
   ]
  },
  {
   "cell_type": "code",
   "execution_count": 33,
   "metadata": {},
   "outputs": [],
   "source": [
    "#Lets create empty lists to store the fetched data\n",
    "desig2 = []\n",
    "comp2 = []\n",
    "exp2 = []\n",
    "location2 = []"
   ]
  },
  {
   "cell_type": "code",
   "execution_count": 34,
   "metadata": {},
   "outputs": [
    {
     "data": {
      "text/plain": [
       "['Assistant Manager/Manager/Senior Manager - Data Scientist Huquo Consul']"
      ]
     },
     "execution_count": 34,
     "metadata": {},
     "output_type": "execute_result"
    }
   ],
   "source": [
    "designation = driv_er.find_elements(By.XPATH,\"//a[@class = 'title fw500 ellipsis']\")\n",
    "for i in designation[0:10]:\n",
    "    desg = i.text\n",
    "    desig2.append(desg)\n",
    "desig2"
   ]
  },
  {
   "cell_type": "code",
   "execution_count": 35,
   "metadata": {},
   "outputs": [
    {
     "data": {
      "text/plain": [
       "['Icreatives']"
      ]
     },
     "execution_count": 35,
     "metadata": {},
     "output_type": "execute_result"
    }
   ],
   "source": [
    "companies = driv_er.find_elements(By.XPATH,\"//a[@class = 'subTitle ellipsis fleft']\")\n",
    "for i in companies[0:10]:\n",
    "    comp = i.text\n",
    "    comp2.append(comp)\n",
    "comp2"
   ]
  },
  {
   "cell_type": "code",
   "execution_count": 36,
   "metadata": {},
   "outputs": [
    {
     "data": {
      "text/plain": [
       "['2-7 Yrs']"
      ]
     },
     "execution_count": 36,
     "metadata": {},
     "output_type": "execute_result"
    }
   ],
   "source": [
    "experience = driv_er.find_elements(By.XPATH,\"//li[@class = 'fleft grey-text br2 placeHolderLi experience']/span\")\n",
    "for i in experience[0:10]:\n",
    "    exp = i.text\n",
    "    exp2.append(exp)\n",
    "exp2"
   ]
  },
  {
   "cell_type": "code",
   "execution_count": 37,
   "metadata": {},
   "outputs": [
    {
     "data": {
      "text/plain": [
       "['Hybrid - Hyderabad/Secunderabad, Kolkata, Pune, Ahmedabad, Chennai, Bangalore/Bengaluru']"
      ]
     },
     "execution_count": 37,
     "metadata": {},
     "output_type": "execute_result"
    }
   ],
   "source": [
    "location = driv_er.find_elements(By.XPATH,\"//li[@class = 'fleft grey-text br2 placeHolderLi location']/span\")\n",
    "for i in location[0:10]:\n",
    "    locat = i.text\n",
    "    location2.append(locat)\n",
    "location2"
   ]
  },
  {
   "cell_type": "code",
   "execution_count": 38,
   "metadata": {},
   "outputs": [
    {
     "data": {
      "text/html": [
       "<div>\n",
       "<style scoped>\n",
       "    .dataframe tbody tr th:only-of-type {\n",
       "        vertical-align: middle;\n",
       "    }\n",
       "\n",
       "    .dataframe tbody tr th {\n",
       "        vertical-align: top;\n",
       "    }\n",
       "\n",
       "    .dataframe thead th {\n",
       "        text-align: right;\n",
       "    }\n",
       "</style>\n",
       "<table border=\"1\" class=\"dataframe\">\n",
       "  <thead>\n",
       "    <tr style=\"text-align: right;\">\n",
       "      <th></th>\n",
       "      <th>Designation</th>\n",
       "      <th>Company</th>\n",
       "      <th>Experience</th>\n",
       "      <th>Location</th>\n",
       "    </tr>\n",
       "  </thead>\n",
       "  <tbody>\n",
       "    <tr>\n",
       "      <th>0</th>\n",
       "      <td>Assistant Manager/Manager/Senior Manager - Dat...</td>\n",
       "      <td>Icreatives</td>\n",
       "      <td>2-7 Yrs</td>\n",
       "      <td>Hybrid - Hyderabad/Secunderabad, Kolkata, Pune...</td>\n",
       "    </tr>\n",
       "  </tbody>\n",
       "</table>\n",
       "</div>"
      ],
      "text/plain": [
       "                                         Designation     Company Experience  \\\n",
       "0  Assistant Manager/Manager/Senior Manager - Dat...  Icreatives    2-7 Yrs   \n",
       "\n",
       "                                            Location  \n",
       "0  Hybrid - Hyderabad/Secunderabad, Kolkata, Pune...  "
      ]
     },
     "execution_count": 38,
     "metadata": {},
     "output_type": "execute_result"
    }
   ],
   "source": [
    "df = pd.DataFrame({\"Designation\":desig2, \"Company\": comp2, \"Experience\": exp2, \"Location\": location2})\n",
    "df"
   ]
  },
  {
   "cell_type": "markdown",
   "metadata": {},
   "source": [
    "Q4: Scrape data of first 100 sunglasses listings on flipkart.com. You have to scrape four attributes:"
   ]
  },
  {
   "cell_type": "code",
   "execution_count": 39,
   "metadata": {},
   "outputs": [],
   "source": [
    "flipdriver = webdriver.Chrome(r\"D:\\Amir Ali\\E Drive data\\Software\\Chrome web driver\\chromedriver.exe\")"
   ]
  },
  {
   "cell_type": "code",
   "execution_count": 40,
   "metadata": {},
   "outputs": [],
   "source": [
    "#lets get the flipkart on webrowser\n",
    "flipdriver.get(\"https://www.flipkart.com/\")\n",
    "time.sleep(5)"
   ]
  },
  {
   "cell_type": "code",
   "execution_count": 41,
   "metadata": {},
   "outputs": [],
   "source": [
    "close_registration = flipdriver.find_element(By.XPATH,\"/html/body/div[2]/div/div/button\")\n",
    "close_registration.click()"
   ]
  },
  {
   "cell_type": "code",
   "execution_count": 42,
   "metadata": {},
   "outputs": [],
   "source": [
    "#enter sunglasses in the search bar\n",
    "search_bar = flipdriver.find_element(By.CLASS_NAME,\"_3704LK\")\n",
    "search_bar.send_keys(\"Sunglasses\")"
   ]
  },
  {
   "cell_type": "code",
   "execution_count": 43,
   "metadata": {},
   "outputs": [],
   "source": [
    "submit = flipdriver.find_element(By.CLASS_NAME,\"L0Z3Pu\")\n",
    "submit.click()\n",
    "time.sleep(3)"
   ]
  },
  {
   "cell_type": "code",
   "execution_count": 44,
   "metadata": {},
   "outputs": [],
   "source": [
    "see_all = flipdriver.find_element(By.XPATH,\"/html/body/div[1]/div/div[3]/div[1]/div[1]/div[2]/div[1]/div/section[5]/div[2]/div[2]\")\n",
    "see_all.click()"
   ]
  },
  {
   "cell_type": "markdown",
   "metadata": {},
   "source": [
    "1.Brand"
   ]
  },
  {
   "cell_type": "code",
   "execution_count": 45,
   "metadata": {},
   "outputs": [],
   "source": [
    "#lets create empty lists to store fetched data\n",
    "brand  = []\n",
    "product_description = []\n",
    "price = []"
   ]
  },
  {
   "cell_type": "code",
   "execution_count": 46,
   "metadata": {},
   "outputs": [
    {
     "data": {
      "text/plain": [
       "100"
      ]
     },
     "execution_count": 46,
     "metadata": {},
     "output_type": "execute_result"
    }
   ],
   "source": [
    "brands = flipdriver.find_elements(By.XPATH,\"//div[@class = '_4921Z']\")\n",
    "for i in brands[0:100]:\n",
    "    bran_d = i.text\n",
    "    brand.append(bran_d)\n",
    "len(brand)\n",
    "\n",
    "#writting this part of code took so long because unnecessary information come along, but thankfully I got it right"
   ]
  },
  {
   "cell_type": "markdown",
   "metadata": {},
   "source": [
    "2.ProductDescription"
   ]
  },
  {
   "cell_type": "code",
   "execution_count": 47,
   "metadata": {},
   "outputs": [
    {
     "name": "stdout",
     "output_type": "stream",
     "text": [
      "39\n"
     ]
    }
   ],
   "source": [
    "product = []\n",
    "productD = flipdriver.find_elements(By.XPATH,\"//a[@class = 'IRpwTa']\")\n",
    "for i in productD[0:100]:\n",
    "    pro = i.text\n",
    "    product.append(pro)\n",
    "print(len(product))\n",
    "    "
   ]
  },
  {
   "cell_type": "markdown",
   "metadata": {},
   "source": [
    "3. Price"
   ]
  },
  {
   "cell_type": "code",
   "execution_count": 48,
   "metadata": {},
   "outputs": [],
   "source": [
    "# prices = []\n",
    "# price = flipdriver.find_elements(By.XPATH, \"//div[@class = '_30jeq3']\")\n",
    "# for i in price:\n",
    "#     pri = i.text\n",
    "#     next_b = flipdriver.find_element(By.XPATH, \"//a[@class = '_1LKTO3']\")\n",
    "#     next_b.click()\n",
    "#     prices.append(pri)\n",
    "# #     if len(prices) == 40:\n",
    "# #         next_b = flipdriver.find_element(By.XPATH, \"//a[@class = '_1LKTO3']\")\n",
    "# #         next_b.click()\n",
    "# #         for i in price:\n",
    "# #             pris = i.text\n",
    "# #             prices.append(pris)\n",
    "            \n",
    "    \n",
    "\n",
    "\n",
    "# len(prices)"
   ]
  },
  {
   "cell_type": "markdown",
   "metadata": {},
   "source": [
    "1. Brand\n",
    "2. ProductDescription\n",
    "3. Price\n"
   ]
  },
  {
   "cell_type": "code",
   "execution_count": 49,
   "metadata": {},
   "outputs": [
    {
     "name": "stdout",
     "output_type": "stream",
     "text": [
      "['PROVOGUE', 'VINCENT CHASE', 'Fastrack', 'LIZA ANGEL', 'Elligator', 'Fastrack', 'SHAAH COLLECTIONS', 'ROZZETTA CRAFT', 'PHENOMENAL', 'Fastrack', 'ZOSTAL', 'Sewell', 'PIRASO', 'LIZA ANGEL', 'New Specs', 'VINCENT CHASE', 'ROZZETTA CRAFT', 'ROZZETTA CRAFT', 'Fastrack', 'SRPM', 'VINCENT CHASE', 'ROZZETTA CRAFT', 'Elligator', 'Elligator', 'Elligator', 'Fastrack', 'AISLIN', 'ROYAL SON', 'Fastrack', 'LIZA ANGEL', 'NuVew', 'VINCENT CHASE', 'Fastrack', 'SRPM', 'Fastrack', 'SUNBEE', 'VINCENT CHASE', 'VINCENT CHASE', 'Elligator', 'PIRASO', 'PROVOGUE', 'VINCENT CHASE', 'Fastrack', 'Elligator', 'SUNBEE', 'kingsunglasses', 'ROYAL SON', 'VINCENT CHASE', 'ROZZETTA CRAFT', 'Sewell', 'ROZZETTA CRAFT', 'ROZZETTA CRAFT', 'Fastrack', 'Elligator', 'Fastrack', 'Fastrack', 'ROYAL SON', 'ROYAL SON', 'NuVew', 'LIZA ANGEL', 'ROZZETTA CRAFT', 'ROZZETTA CRAFT', 'ROZZETTA CRAFT', 'kingsunglasses', 'Fastrack', 'LIZA ANGEL', 'ROZZETTA CRAFT', 'ROZZETTA CRAFT', 'Rich Club', 'SUNBEE', 'NuVew', 'ROZZETTA CRAFT', 'Ray-Ban', 'kingsunglasses', 'AISLIN', 'Fastrack', 'ROZZETTA CRAFT', 'VINCENT CHASE', 'PIRASO', 'Elligator', 'PROVOGUE', 'VINCENT CHASE', 'Fastrack', 'LIZA ANGEL', 'Elligator', 'Fastrack', 'SHAAH COLLECTIONS', 'GANSTA', 'PHENOMENAL', 'Fastrack', 'ZOSTAL', 'ROZZETTA CRAFT', 'PIRASO', 'LIZA ANGEL', 'New Specs', 'VINCENT CHASE', 'PROVOGUE', 'VINCENT CHASE', 'Fastrack', 'SRPM', 'AISLIN', 'ROZZETTA CRAFT', 'Elligator', 'Elligator', 'Elligator', 'Fastrack', 'ROYAL SON', 'VINCENT CHASE', 'Fastrack', 'LIZA ANGEL', 'VINCENT CHASE', 'ROZZETTA CRAFT', 'Fastrack', 'SRPM', 'Fastrack', 'SUNBEE', 'ROZZETTA CRAFT', 'ROZZETTA CRAFT', 'Elligator', 'PIRASO']\n",
      "['Polarized, UV Protection Rectangular Sunglasses (Free S...', 'by Lenskart Polarized, UV Protection Cat-eye Sunglasses...', 'UV Protection Rectangular Sunglasses (Free Size)', 'Riding Glasses, Night Vision Spectacle Sunglasses (Fre...', 'UV Protection Cat-eye, Retro Square, Oval, Round Sungla...', 'UV Protection Wayfarer Sunglasses (Free Size)', 'UV Protection, Polarized, Mirrored Rectangular Sunglass...', 'UV Protection Aviator Sunglasses (55)', 'UV Protection Retro Square Sunglasses (53)', 'UV Protection Wayfarer Sunglasses (Free Size)', 'UV Protection Wrap-around Sunglasses (Free Size)', 'UV Protection Aviator Sunglasses (Free Size)', 'UV Protection Rectangular Sunglasses (52)', 'UV Protection, Polarized Rectangular Sunglasses (Free S...', 'UV Protection Rectangular Sunglasses (Free Size)', 'UV Protection Wayfarer Sunglasses (59)', 'UV Protection Aviator Sunglasses (62)', 'UV Protection, Gradient Rectangular Sunglasses (Free Si...', 'Mirrored, UV Protection Wayfarer Sunglasses (Free Size)', 'UV Protection Wayfarer Sunglasses (50)', 'by Lenskart Polarized, UV Protection Cat-eye Sunglasses...', 'Polarized, UV Protection Aviator Sunglasses (55)', 'UV Protection Round Sunglasses (53)', 'UV Protection Round Sunglasses (54)', 'UV Protection Cat-eye, Retro Square, Oval, Round Sungla...', 'Gradient, UV Protection Wayfarer Sunglasses (Free Size)', 'UV Protection, Gradient Cat-eye Sunglasses (58)', 'UV Protection Shield Sunglasses (Free Size)', 'Riding Glasses, UV Protection, Night Vision Spectacle ...', 'Polarized, UV Protection Retro Square Sunglasses (52)', 'Gradient, UV Protection Wayfarer Sunglasses (Free Size)', 'Night Vision, UV Protection Round Sunglasses (54)', 'UV Protection Aviator Sunglasses (58)', 'UV Protection Cat-eye Sunglasses (Free Size)', 'by Lenskart Polarized, UV Protection Wayfarer Sunglasse...', 'by Lenskart Polarized, UV Protection Round Sunglasses (...', 'UV Protection Round Sunglasses (53)', 'UV Protection Aviator Sunglasses (54)', 'Polarized, UV Protection Rectangular Sunglasses (Free S...', 'by Lenskart Polarized, UV Protection Rectangular Sungla...', 'UV Protection Wayfarer Sunglasses (Free Size)', 'Others Cat-eye, Retro Square, Wayfarer Sunglasses (54)', 'UV Protection, Polarized Wayfarer Sunglasses (Free Size...', 'UV Protection Cat-eye Sunglasses (Free Size)', 'Polarized, UV Protection Retro Square Sunglasses (61)', 'by Lenskart Polarized, UV Protection Wayfarer Sunglasse...', 'Polarized, Riding Glasses Sports, Wrap-around Sunglasse...', 'Mirrored, Night Vision, UV Protection, Riding Glasses S...', 'Polarized, UV Protection Aviator Sunglasses (55)', 'UV Protection Retro Square Sunglasses (Free Size)', 'UV Protection Rectangular Sunglasses (56)', 'UV Protection Aviator, Wayfarer Sunglasses (54)', 'Gradient, UV Protection Wayfarer Sunglasses (Free Size)', 'UV Protection Aviator Sunglasses (Free Size)', 'UV Protection Rectangular, Retro Square Sunglasses (58)', 'Polarized, UV Protection Aviator Sunglasses (57)', 'UV Protection Round Sunglasses (50)', 'UV Protection, Riding Glasses, Night Vision Spectacle ...', 'UV Protection, Gradient Retro Square Sunglasses (Free S...', 'UV Protection Aviator Sunglasses (62)', 'UV Protection Aviator Sunglasses (55)', 'UV Protection, Mirrored Round Sunglasses (Free Size)', 'UV Protection Wayfarer Sunglasses (Free Size)', 'UV Protection Wayfarer Sunglasses (Free Size)', 'Polarized, UV Protection Aviator Sunglasses (55)', 'Polarized, UV Protection Wrap-around, Sports Sunglasses...', 'UV Protection Retro Square Sunglasses (54)', 'UV Protection Rectangular Sunglasses (Free Size)', 'UV Protection, Mirrored, Night Vision, Riding Glasses S...', 'Polarized, UV Protection Aviator Sunglasses (55)', 'Mirrored, UV Protection Aviator Sunglasses (58)', 'UV Protection Rectangular Sunglasses (Free Size)', 'UV Protection, Gradient Round, Cat-eye Sunglasses (60)', 'UV Protection Aviator Sunglasses (58)', 'UV Protection Retro Square Sunglasses (Free Size)', 'by Lenskart Polarized, UV Protection Retro Square Sungl...', 'UV Protection Wayfarer Sunglasses (32)', 'UV Protection, Mirrored Wayfarer Sunglasses (54)', 'Polarized, UV Protection Rectangular Sunglasses (Free S...', 'by Lenskart Polarized, UV Protection Cat-eye Sunglasses...', 'UV Protection Rectangular Sunglasses (Free Size)', 'Riding Glasses, Night Vision Spectacle Sunglasses (Fre...', 'UV Protection Cat-eye, Retro Square, Oval, Round Sungla...', 'UV Protection Wayfarer Sunglasses (Free Size)', 'UV Protection, Polarized, Mirrored Rectangular Sunglass...', 'Gradient, UV Protection Aviator Sunglasses (57)', 'UV Protection Retro Square Sunglasses (53)', 'UV Protection Wayfarer Sunglasses (Free Size)', 'UV Protection Wrap-around Sunglasses (Free Size)', 'UV Protection, Gradient Rectangular Sunglasses (Free Si...', 'UV Protection Rectangular Sunglasses (52)', 'UV Protection, Polarized Rectangular Sunglasses (Free S...', 'UV Protection Rectangular Sunglasses (Free Size)', 'UV Protection Wayfarer Sunglasses (59)', 'Polarized, UV Protection Rectangular Sunglasses (Free S...', 'by Lenskart Polarized, UV Protection Cat-eye Sunglasses...', 'Mirrored, UV Protection Wayfarer Sunglasses (Free Size)', 'UV Protection Wayfarer Sunglasses (50)', 'UV Protection, Gradient Cat-eye Sunglasses (58)', 'Polarized, UV Protection Aviator Sunglasses (55)', 'UV Protection Round Sunglasses (53)', 'UV Protection Round Sunglasses (54)', 'UV Protection Cat-eye, Retro Square, Oval, Round Sungla...', 'Gradient, UV Protection Wayfarer Sunglasses (Free Size)', 'Polarized, UV Protection Retro Square Sunglasses (52)', 'UV Protection Shield Sunglasses (Free Size)', 'Riding Glasses, UV Protection, Night Vision Spectacle ...', 'by Lenskart Polarized, UV Protection Wayfarer Sunglasse...', 'UV Protection Aviator Sunglasses (55)', 'Gradient, UV Protection Wayfarer Sunglasses (Free Size)', 'Night Vision, UV Protection Round Sunglasses (54)', 'UV Protection Aviator Sunglasses (58)', 'UV Protection Cat-eye Sunglasses (Free Size)', 'UV Protection Aviator Sunglasses (62)', 'Polarized, UV Protection Wayfarer Sunglasses (Free Size...', 'UV Protection Round Sunglasses (53)', 'UV Protection Aviator Sunglasses (54)']\n",
      "['₹559', '₹806', '₹439', '₹129', '₹149', '₹599', '₹159', '₹616', '₹200', '₹539', '₹194', '₹327', '₹188', '₹129', '₹259', '₹664', '₹616', '₹398', '₹599', '₹149', '₹949', '₹497', '₹149', '₹286', '₹129', '₹539', '₹448', '₹749', '₹539', '₹129', '₹256', '₹996', '₹479', '₹179', '₹779', '₹149', '₹701', '₹949', '₹149', '₹257', '₹664', '₹849', '₹479', '₹149', '₹255', '₹129', '₹699', '₹949', '₹497', '₹280', '₹497', '₹474', '₹479', '₹149', '₹539', '₹539', '₹499', '₹799', '₹117', '₹129', '₹331', '₹616', '₹616', '₹265', '₹599', '₹129', '₹497', '₹474', '₹258', '₹149', '₹362', '₹497', '₹2,799', '₹199', '₹485', '₹969', '₹474', '₹949', '₹257', '₹179', '₹559', '₹806', '₹439', '₹129', '₹149', '₹599', '₹159', '₹299', '₹200', '₹539', '₹194', '₹398', '₹188', '₹129', '₹259', '₹664', '₹664', '₹949', '₹599', '₹149', '₹448', '₹497', '₹149', '₹286', '₹129', '₹539', '₹749', '₹996', '₹539', '₹129', '₹701', '₹616', '₹479', '₹179', '₹779', '₹149', '₹616', '₹449', '₹149', '₹257']\n"
     ]
    }
   ],
   "source": [
    "price = []\n",
    "product = []\n",
    "brand_name = []\n",
    "start = 0\n",
    "end = 3\n",
    "submit = flipdriver.find_element(By.CLASS_NAME,\"L0Z3Pu\")\n",
    "submit.click()\n",
    "time.sleep(3)\n",
    "for page in range (start, end):\n",
    "    prices = flipdriver.find_elements(By.XPATH, \"//div[@class = '_30jeq3']\")\n",
    "    productD = flipdriver.find_elements(By.XPATH,\"//a[@class = 'IRpwTa']\")\n",
    "    brands = flipdriver.find_elements(By.XPATH,\"//div[@class = '_2WkVRV']\")\n",
    "    \n",
    "    for i in brands[0:100]:\n",
    "        brand_name.append(i.text)\n",
    "    \n",
    "    for i in productD[0:100]:\n",
    "        product.append(i.text)\n",
    "        \n",
    "    for i in prices[0:100]:\n",
    "        price.append(i.text)\n",
    "        \n",
    "    next_b = flipdriver.find_element(By.XPATH, \"//a[@class = '_1LKTO3']\")\n",
    "    next_b.click()\n",
    "    time.sleep(4)\n",
    "print(brand_name)\n",
    "print(product)\n",
    "print(price)\n",
    "\n",
    "        \n",
    "        "
   ]
  },
  {
   "cell_type": "markdown",
   "metadata": {},
   "source": [
    "Q5: Scrape 100 reviews data from flipkart.com for iphone11 phone. You have to go the link:\n",
    "https://www.flipkart.com/apple-iphone-11-black-64-gb/product\u0002reviews/itm4e5041ba101fd?pid=MOBFWQ6BXGJCEYNY&lid=LSTMOBFWQ6BXGJCEYNYZXSHRJ&market\n",
    "place=FLIPKART\n"
   ]
  },
  {
   "cell_type": "code",
   "execution_count": 50,
   "metadata": {},
   "outputs": [],
   "source": [
    "review_driver = webdriver.Chrome(r\"D:\\Amir Ali\\E Drive data\\Software\\Chrome web driver\\chromedriver\")"
   ]
  },
  {
   "cell_type": "code",
   "execution_count": 51,
   "metadata": {},
   "outputs": [],
   "source": [
    "review_driver.get(\"https://www.flipkart.com/apple-iphone-11-black-64-gb/product-reviews/itm0f37c2240b217?pid=MOBFKCTSVZAXUHGR\")\n",
    "time.sleep(2)"
   ]
  },
  {
   "cell_type": "markdown",
   "metadata": {},
   "source": [
    "1. Rating"
   ]
  },
  {
   "cell_type": "code",
   "execution_count": 52,
   "metadata": {},
   "outputs": [
    {
     "name": "stdout",
     "output_type": "stream",
     "text": [
      "4.6\n"
     ]
    }
   ],
   "source": [
    "#total rating\n",
    "rating = review_driver.find_element(By.XPATH, \"/html/body/div/div/div[3]/div/div[1]/div[1]/div[1]/div/div/div[2]/span[1]/div\")\n",
    "print(rating.text)"
   ]
  },
  {
   "cell_type": "markdown",
   "metadata": {},
   "source": [
    "2. Review summary"
   ]
  },
  {
   "cell_type": "code",
   "execution_count": 53,
   "metadata": {},
   "outputs": [
    {
     "name": "stdout",
     "output_type": "stream",
     "text": [
      "1,72,670 Ratings & 10,236 Reviews\n"
     ]
    }
   ],
   "source": [
    "#reviews \n",
    "review = review_driver.find_element(By.XPATH, \"//span[@class = '_2_R_DZ']\")\n",
    "print(review.text)"
   ]
  },
  {
   "cell_type": "markdown",
   "metadata": {},
   "source": [
    "3. Full review"
   ]
  },
  {
   "cell_type": "code",
   "execution_count": 54,
   "metadata": {},
   "outputs": [],
   "source": [
    "#Lets create lists to store 100 reviews\n",
    "ratting = []\n",
    "review_summary = []\n",
    "full_review = []"
   ]
  },
  {
   "cell_type": "code",
   "execution_count": 55,
   "metadata": {},
   "outputs": [
    {
     "name": "stdout",
     "output_type": "stream",
     "text": [
      "['5', '5', '5', '4', '5', '5', '5', '5', '5', '5', '5', '5', '5', '5', '4', '5', '5', '5', '5', '4', '5', '5', '5', '4', '5', '5', '5', '5', '5', '5', '5', '5', '5', '5', '4', '5', '5', '5', '5', '4', '5', '5', '5', '4', '5', '5', '5', '5', '5', '5', '5', '5', '5', '5', '4', '5', '5', '5', '5', '4', '5', '5', '5', '4', '5', '5', '5', '5', '5', '5', '5', '5', '5', '5', '4', '5', '5', '5', '5', '4', '5', '5', '5', '4', '5', '5', '5', '5', '5', '5', '5', '5', '5', '5', '4', '5', '5', '5', '5', '4']\n",
      "['Simply awesome', 'Perfect product!', 'Best in the market!', 'Value-for-money', 'Highly recommended', 'Worth every penny', 'Perfect product!', 'Highly recommended', 'Great product', 'Fabulous!', 'Fabulous!', 'Classy product', 'Worth every penny', 'Highly recommended', 'Good choice', 'Perfect product!', 'Perfect product!', 'Perfect product!', 'Highly recommended', 'Value-for-money', 'Simply awesome', 'Perfect product!', 'Best in the market!', 'Value-for-money', 'Highly recommended', 'Worth every penny', 'Perfect product!', 'Highly recommended', 'Great product', 'Fabulous!', 'Fabulous!', 'Classy product', 'Worth every penny', 'Highly recommended', 'Good choice', 'Perfect product!', 'Perfect product!', 'Perfect product!', 'Highly recommended', 'Value-for-money', 'Simply awesome', 'Perfect product!', 'Best in the market!', 'Value-for-money', 'Highly recommended', 'Worth every penny', 'Perfect product!', 'Highly recommended', 'Great product', 'Fabulous!', 'Fabulous!', 'Classy product', 'Worth every penny', 'Highly recommended', 'Good choice', 'Perfect product!', 'Perfect product!', 'Perfect product!', 'Highly recommended', 'Value-for-money', 'Simply awesome', 'Perfect product!', 'Best in the market!', 'Value-for-money', 'Highly recommended', 'Worth every penny', 'Perfect product!', 'Highly recommended', 'Great product', 'Fabulous!', 'Fabulous!', 'Classy product', 'Worth every penny', 'Highly recommended', 'Good choice', 'Perfect product!', 'Perfect product!', 'Perfect product!', 'Highly recommended', 'Value-for-money', 'Simply awesome', 'Perfect product!', 'Best in the market!', 'Value-for-money', 'Highly recommended', 'Worth every penny', 'Perfect product!', 'Highly recommended', 'Great product', 'Fabulous!', 'Fabulous!', 'Classy product', 'Worth every penny', 'Highly recommended', 'Good choice', 'Perfect product!', 'Perfect product!', 'Perfect product!', 'Highly recommended', 'Value-for-money']\n",
      "['Really satisfied with the Product I received... It’s totally genuine and the packaging was also really good so if ur planning to buy just go for it.', 'Amazing phone with great cameras and better battery which gives you the best performance. I just love the camera .', 'Great iPhone very snappy experience as apple kind. Upgraded from iPhone 7.\\nPros\\n-Camera top class\\n- Battery top performed\\n-Chipset no need to say as apple kind\\n-Security as you expect from apple\\n- Display super bright industry leading colour\\naccuracy and super responsive\\n-Build quality as expect from apple sturdy\\npremium durable beautiful stylish.\\n-Os most stable os in smartphone industry\\n\\nCons\\n-No 5G\\n-Display is not based on OLED technology\\n-Charger headphones and 1 apple stic...\\nREAD MORE', \"I'm Really happy with the product\\nDelivery was fast as well\\n..it was a gift for my sister and she loved it so much.\", \"It's my first time to use iOS phone and I am loving my upgradation 😍😍 I love the color, I love the assebility of the phone....I need to learn more about its functionality, but as far as I have seen, it's quite easy and it has a lot of functions to work on, specially if you are a content writer or a blogger you get a lot of content creation platforms and they are really amazing.\\n\\nThis phone not only for good quality photography but a lot of other task too.😍💯\", 'Previously I was using one plus 3t it was a great phone\\nAnd then I decided to upgrade I am stuck between Samsung s10 plus or iPhone 11\\nI have seen the specs and everything were good except the display it’s somewhere between 720-1080 and it’s not even an amoled it’s an LCD display\\nBut I decided to go with iPhone because I have never used an IOS device I have Been an android user from the past 9 years I ordered IPhone 11 (128gb) product red\\nMy experience after using 3 weeks\\n1. The delivery ...\\nREAD MORE', 'Value for money\\n5 star rating\\nExcellent camera\\nBattery backup full day in single charge.\\n\\nTougher and water resistant design, glossy back.\\nThe screen has excellent brightness and contrast.\\nApple A13 Bionic is the fastest smartphone chip on the planet.\\nExcellent battery life, fast charging support.\\nStereo speakers with great quality.', 'What a camera .....just awesome ..you can feel this iPhone just awesome . Good for gaming also ...try pubg in hd it’s just wow', 'Amazing Powerful and Durable Gadget.\\n\\nI’m am very happy with the camera picture quality, Amazing face id unlocked in dark room, Strong battery with perfect screen size as you can carry easily in pocket. This is my third iPhone.\\n\\nI shifted from android Samsung Note series to iPhone because of the strong build quality and peace of mind for next 3-4 years.\\n\\nDon’t think to much just go for it and I suggest you to go for minimum 128gb variant or more 256gb.\\n\\nI’ve attached my puppy pics and no fi...\\nREAD MORE', 'This is my first iOS phone. I am very happy with this product. Very much satisfied with this. I love this phone.', 'This is my first iOS phone. I am very happy with this product. Very much satisfied with this. I love this phone.', 'Best and amazing product.....phone looks so premium.... battary is also good as expected .... Wide angle camera is so addictive ...if you are a IOS lover....then this phone will be the best choice for you all!!💯🔥', 'i11 is worthy to buy, too much happy with the product. Thank u flipkart I received the item on time..loved it..', 'Thanks Flipkart For this amazing deal! I had a dream of owning a iphone since i had known about.\\nIm very happy with my purchase & it is totally worth it.\\nAmazing experience all over !!\\n\\nAnyone who’s thinking of buying it in 2021, i would simply say go for it without any second thoughts ❤️', 'So far it’s been an AMAZING experience coming back to iOS after nearly a decade but it’s not as versatile as android though phone is sturdy dropped it accidentally a couple of times and nothing happened fortunately camera is awesome', 'It’s a must buy who is looking for an upgrade from previous generation of iPhones. If you are using XR then still you can hold on for sometime and upgrade to 2020 model else this phone is a must buy . Camera quality is amazing and wide angle is something to count upon. Performance wise it’s amazing and feels premium while holding in hand. So a big YES for this device. Go for 128 GB variant as the 4K videos will occupy lots of space and the storage can get over very quickly. Try to buy it with...\\nREAD MORE', 'Value for money❤️❤️\\nIts awesome mobile phone in the world ...\\nDisplay was very good and bright ..\\nTrust me freinds you r never regret after Buying..\\nJust go for it....\\nI love this phone and i switch to iphone x to 11', 'It is just awesome mobile for this price from Apple,\\n\\nAfter 10 days review\\n\\nBattery enough for 1 day even 24*7 Internet will be on and mostly internet usage\\n\\nCamera is just awesome cool , android 64 MP is equal to this just 12 MP\\n\\nA13 Bionic chip will give more high performance without hanging\\n\\nAudio stereo speakers will give Dolby atoms sound with crystal clear\\n\\nVideo recording is like cinematic shots of every sec can be a 4K 60fps. Just awesome this phone\\niPhone 11 loved one', 'iphone 11 is a very good phone to buy only if you can compromise for the display. The display on this is device is pretty good but you can get other options with better displays in this price segment.\\nIf you can survive with an HD+ LCD panel with thicker bezels and a notch up top then this is a very good phone for you.\\nCameras are awesome, battery backup excellent, great performance and a decent premium look. Good job Apple !', \"Just got this iphone 11\\nAnd it is most powerful mobile phone I have used ever\\n\\nSo,go for it if you want a phone with best specification like camera,battery backup,display, A13 bionic chip\\n\\nThat's my review about this phone but yours can be differ from me....\", 'Really satisfied with the Product I received... It’s totally genuine and the packaging was also really good so if ur planning to buy just go for it.', 'Amazing phone with great cameras and better battery which gives you the best performance. I just love the camera .', 'Great iPhone very snappy experience as apple kind. Upgraded from iPhone 7.\\nPros\\n-Camera top class\\n- Battery top performed\\n-Chipset no need to say as apple kind\\n-Security as you expect from apple\\n- Display super bright industry leading colour\\naccuracy and super responsive\\n-Build quality as expect from apple sturdy\\npremium durable beautiful stylish.\\n-Os most stable os in smartphone industry\\n\\nCons\\n-No 5G\\n-Display is not based on OLED technology\\n-Charger headphones and 1 apple stic...\\nREAD MORE', \"I'm Really happy with the product\\nDelivery was fast as well\\n..it was a gift for my sister and she loved it so much.\", \"It's my first time to use iOS phone and I am loving my upgradation 😍😍 I love the color, I love the assebility of the phone....I need to learn more about its functionality, but as far as I have seen, it's quite easy and it has a lot of functions to work on, specially if you are a content writer or a blogger you get a lot of content creation platforms and they are really amazing.\\n\\nThis phone not only for good quality photography but a lot of other task too.😍💯\", 'Previously I was using one plus 3t it was a great phone\\nAnd then I decided to upgrade I am stuck between Samsung s10 plus or iPhone 11\\nI have seen the specs and everything were good except the display it’s somewhere between 720-1080 and it’s not even an amoled it’s an LCD display\\nBut I decided to go with iPhone because I have never used an IOS device I have Been an android user from the past 9 years I ordered IPhone 11 (128gb) product red\\nMy experience after using 3 weeks\\n1. The delivery ...\\nREAD MORE', 'Value for money\\n5 star rating\\nExcellent camera\\nBattery backup full day in single charge.\\n\\nTougher and water resistant design, glossy back.\\nThe screen has excellent brightness and contrast.\\nApple A13 Bionic is the fastest smartphone chip on the planet.\\nExcellent battery life, fast charging support.\\nStereo speakers with great quality.', 'What a camera .....just awesome ..you can feel this iPhone just awesome . Good for gaming also ...try pubg in hd it’s just wow', 'Amazing Powerful and Durable Gadget.\\n\\nI’m am very happy with the camera picture quality, Amazing face id unlocked in dark room, Strong battery with perfect screen size as you can carry easily in pocket. This is my third iPhone.\\n\\nI shifted from android Samsung Note series to iPhone because of the strong build quality and peace of mind for next 3-4 years.\\n\\nDon’t think to much just go for it and I suggest you to go for minimum 128gb variant or more 256gb.\\n\\nI’ve attached my puppy pics and no fi...\\nREAD MORE', 'This is my first iOS phone. I am very happy with this product. Very much satisfied with this. I love this phone.', 'This is my first iOS phone. I am very happy with this product. Very much satisfied with this. I love this phone.', 'Best and amazing product.....phone looks so premium.... battary is also good as expected .... Wide angle camera is so addictive ...if you are a IOS lover....then this phone will be the best choice for you all!!💯🔥', 'i11 is worthy to buy, too much happy with the product. Thank u flipkart I received the item on time..loved it..', 'Thanks Flipkart For this amazing deal! I had a dream of owning a iphone since i had known about.\\nIm very happy with my purchase & it is totally worth it.\\nAmazing experience all over !!\\n\\nAnyone who’s thinking of buying it in 2021, i would simply say go for it without any second thoughts ❤️', 'So far it’s been an AMAZING experience coming back to iOS after nearly a decade but it’s not as versatile as android though phone is sturdy dropped it accidentally a couple of times and nothing happened fortunately camera is awesome', 'It’s a must buy who is looking for an upgrade from previous generation of iPhones. If you are using XR then still you can hold on for sometime and upgrade to 2020 model else this phone is a must buy . Camera quality is amazing and wide angle is something to count upon. Performance wise it’s amazing and feels premium while holding in hand. So a big YES for this device. Go for 128 GB variant as the 4K videos will occupy lots of space and the storage can get over very quickly. Try to buy it with...\\nREAD MORE', 'Value for money❤️❤️\\nIts awesome mobile phone in the world ...\\nDisplay was very good and bright ..\\nTrust me freinds you r never regret after Buying..\\nJust go for it....\\nI love this phone and i switch to iphone x to 11', 'It is just awesome mobile for this price from Apple,\\n\\nAfter 10 days review\\n\\nBattery enough for 1 day even 24*7 Internet will be on and mostly internet usage\\n\\nCamera is just awesome cool , android 64 MP is equal to this just 12 MP\\n\\nA13 Bionic chip will give more high performance without hanging\\n\\nAudio stereo speakers will give Dolby atoms sound with crystal clear\\n\\nVideo recording is like cinematic shots of every sec can be a 4K 60fps. Just awesome this phone\\niPhone 11 loved one', 'iphone 11 is a very good phone to buy only if you can compromise for the display. The display on this is device is pretty good but you can get other options with better displays in this price segment.\\nIf you can survive with an HD+ LCD panel with thicker bezels and a notch up top then this is a very good phone for you.\\nCameras are awesome, battery backup excellent, great performance and a decent premium look. Good job Apple !', \"Just got this iphone 11\\nAnd it is most powerful mobile phone I have used ever\\n\\nSo,go for it if you want a phone with best specification like camera,battery backup,display, A13 bionic chip\\n\\nThat's my review about this phone but yours can be differ from me....\", 'Really satisfied with the Product I received... It’s totally genuine and the packaging was also really good so if ur planning to buy just go for it.', 'Amazing phone with great cameras and better battery which gives you the best performance. I just love the camera .', 'Great iPhone very snappy experience as apple kind. Upgraded from iPhone 7.\\nPros\\n-Camera top class\\n- Battery top performed\\n-Chipset no need to say as apple kind\\n-Security as you expect from apple\\n- Display super bright industry leading colour\\naccuracy and super responsive\\n-Build quality as expect from apple sturdy\\npremium durable beautiful stylish.\\n-Os most stable os in smartphone industry\\n\\nCons\\n-No 5G\\n-Display is not based on OLED technology\\n-Charger headphones and 1 apple stic...\\nREAD MORE', \"I'm Really happy with the product\\nDelivery was fast as well\\n..it was a gift for my sister and she loved it so much.\", \"It's my first time to use iOS phone and I am loving my upgradation 😍😍 I love the color, I love the assebility of the phone....I need to learn more about its functionality, but as far as I have seen, it's quite easy and it has a lot of functions to work on, specially if you are a content writer or a blogger you get a lot of content creation platforms and they are really amazing.\\n\\nThis phone not only for good quality photography but a lot of other task too.😍💯\", 'Previously I was using one plus 3t it was a great phone\\nAnd then I decided to upgrade I am stuck between Samsung s10 plus or iPhone 11\\nI have seen the specs and everything were good except the display it’s somewhere between 720-1080 and it’s not even an amoled it’s an LCD display\\nBut I decided to go with iPhone because I have never used an IOS device I have Been an android user from the past 9 years I ordered IPhone 11 (128gb) product red\\nMy experience after using 3 weeks\\n1. The delivery ...\\nREAD MORE', 'Value for money\\n5 star rating\\nExcellent camera\\nBattery backup full day in single charge.\\n\\nTougher and water resistant design, glossy back.\\nThe screen has excellent brightness and contrast.\\nApple A13 Bionic is the fastest smartphone chip on the planet.\\nExcellent battery life, fast charging support.\\nStereo speakers with great quality.', 'What a camera .....just awesome ..you can feel this iPhone just awesome . Good for gaming also ...try pubg in hd it’s just wow', 'Amazing Powerful and Durable Gadget.\\n\\nI’m am very happy with the camera picture quality, Amazing face id unlocked in dark room, Strong battery with perfect screen size as you can carry easily in pocket. This is my third iPhone.\\n\\nI shifted from android Samsung Note series to iPhone because of the strong build quality and peace of mind for next 3-4 years.\\n\\nDon’t think to much just go for it and I suggest you to go for minimum 128gb variant or more 256gb.\\n\\nI’ve attached my puppy pics and no fi...\\nREAD MORE', 'This is my first iOS phone. I am very happy with this product. Very much satisfied with this. I love this phone.', 'This is my first iOS phone. I am very happy with this product. Very much satisfied with this. I love this phone.', 'Best and amazing product.....phone looks so premium.... battary is also good as expected .... Wide angle camera is so addictive ...if you are a IOS lover....then this phone will be the best choice for you all!!💯🔥', 'i11 is worthy to buy, too much happy with the product. Thank u flipkart I received the item on time..loved it..', 'Thanks Flipkart For this amazing deal! I had a dream of owning a iphone since i had known about.\\nIm very happy with my purchase & it is totally worth it.\\nAmazing experience all over !!\\n\\nAnyone who’s thinking of buying it in 2021, i would simply say go for it without any second thoughts ❤️', 'So far it’s been an AMAZING experience coming back to iOS after nearly a decade but it’s not as versatile as android though phone is sturdy dropped it accidentally a couple of times and nothing happened fortunately camera is awesome', 'It’s a must buy who is looking for an upgrade from previous generation of iPhones. If you are using XR then still you can hold on for sometime and upgrade to 2020 model else this phone is a must buy . Camera quality is amazing and wide angle is something to count upon. Performance wise it’s amazing and feels premium while holding in hand. So a big YES for this device. Go for 128 GB variant as the 4K videos will occupy lots of space and the storage can get over very quickly. Try to buy it with...\\nREAD MORE', 'Value for money❤️❤️\\nIts awesome mobile phone in the world ...\\nDisplay was very good and bright ..\\nTrust me freinds you r never regret after Buying..\\nJust go for it....\\nI love this phone and i switch to iphone x to 11', 'It is just awesome mobile for this price from Apple,\\n\\nAfter 10 days review\\n\\nBattery enough for 1 day even 24*7 Internet will be on and mostly internet usage\\n\\nCamera is just awesome cool , android 64 MP is equal to this just 12 MP\\n\\nA13 Bionic chip will give more high performance without hanging\\n\\nAudio stereo speakers will give Dolby atoms sound with crystal clear\\n\\nVideo recording is like cinematic shots of every sec can be a 4K 60fps. Just awesome this phone\\niPhone 11 loved one', 'iphone 11 is a very good phone to buy only if you can compromise for the display. The display on this is device is pretty good but you can get other options with better displays in this price segment.\\nIf you can survive with an HD+ LCD panel with thicker bezels and a notch up top then this is a very good phone for you.\\nCameras are awesome, battery backup excellent, great performance and a decent premium look. Good job Apple !', \"Just got this iphone 11\\nAnd it is most powerful mobile phone I have used ever\\n\\nSo,go for it if you want a phone with best specification like camera,battery backup,display, A13 bionic chip\\n\\nThat's my review about this phone but yours can be differ from me....\", 'Really satisfied with the Product I received... It’s totally genuine and the packaging was also really good so if ur planning to buy just go for it.', 'Amazing phone with great cameras and better battery which gives you the best performance. I just love the camera .', 'Great iPhone very snappy experience as apple kind. Upgraded from iPhone 7.\\nPros\\n-Camera top class\\n- Battery top performed\\n-Chipset no need to say as apple kind\\n-Security as you expect from apple\\n- Display super bright industry leading colour\\naccuracy and super responsive\\n-Build quality as expect from apple sturdy\\npremium durable beautiful stylish.\\n-Os most stable os in smartphone industry\\n\\nCons\\n-No 5G\\n-Display is not based on OLED technology\\n-Charger headphones and 1 apple stic...\\nREAD MORE', \"I'm Really happy with the product\\nDelivery was fast as well\\n..it was a gift for my sister and she loved it so much.\", \"It's my first time to use iOS phone and I am loving my upgradation 😍😍 I love the color, I love the assebility of the phone....I need to learn more about its functionality, but as far as I have seen, it's quite easy and it has a lot of functions to work on, specially if you are a content writer or a blogger you get a lot of content creation platforms and they are really amazing.\\n\\nThis phone not only for good quality photography but a lot of other task too.😍💯\", 'Previously I was using one plus 3t it was a great phone\\nAnd then I decided to upgrade I am stuck between Samsung s10 plus or iPhone 11\\nI have seen the specs and everything were good except the display it’s somewhere between 720-1080 and it’s not even an amoled it’s an LCD display\\nBut I decided to go with iPhone because I have never used an IOS device I have Been an android user from the past 9 years I ordered IPhone 11 (128gb) product red\\nMy experience after using 3 weeks\\n1. The delivery ...\\nREAD MORE', 'Value for money\\n5 star rating\\nExcellent camera\\nBattery backup full day in single charge.\\n\\nTougher and water resistant design, glossy back.\\nThe screen has excellent brightness and contrast.\\nApple A13 Bionic is the fastest smartphone chip on the planet.\\nExcellent battery life, fast charging support.\\nStereo speakers with great quality.', 'What a camera .....just awesome ..you can feel this iPhone just awesome . Good for gaming also ...try pubg in hd it’s just wow', 'Amazing Powerful and Durable Gadget.\\n\\nI’m am very happy with the camera picture quality, Amazing face id unlocked in dark room, Strong battery with perfect screen size as you can carry easily in pocket. This is my third iPhone.\\n\\nI shifted from android Samsung Note series to iPhone because of the strong build quality and peace of mind for next 3-4 years.\\n\\nDon’t think to much just go for it and I suggest you to go for minimum 128gb variant or more 256gb.\\n\\nI’ve attached my puppy pics and no fi...\\nREAD MORE', 'This is my first iOS phone. I am very happy with this product. Very much satisfied with this. I love this phone.', 'This is my first iOS phone. I am very happy with this product. Very much satisfied with this. I love this phone.', 'Best and amazing product.....phone looks so premium.... battary is also good as expected .... Wide angle camera is so addictive ...if you are a IOS lover....then this phone will be the best choice for you all!!💯🔥', 'i11 is worthy to buy, too much happy with the product. Thank u flipkart I received the item on time..loved it..', 'Thanks Flipkart For this amazing deal! I had a dream of owning a iphone since i had known about.\\nIm very happy with my purchase & it is totally worth it.\\nAmazing experience all over !!\\n\\nAnyone who’s thinking of buying it in 2021, i would simply say go for it without any second thoughts ❤️', 'So far it’s been an AMAZING experience coming back to iOS after nearly a decade but it’s not as versatile as android though phone is sturdy dropped it accidentally a couple of times and nothing happened fortunately camera is awesome', 'It’s a must buy who is looking for an upgrade from previous generation of iPhones. If you are using XR then still you can hold on for sometime and upgrade to 2020 model else this phone is a must buy . Camera quality is amazing and wide angle is something to count upon. Performance wise it’s amazing and feels premium while holding in hand. So a big YES for this device. Go for 128 GB variant as the 4K videos will occupy lots of space and the storage can get over very quickly. Try to buy it with...\\nREAD MORE', 'Value for money❤️❤️\\nIts awesome mobile phone in the world ...\\nDisplay was very good and bright ..\\nTrust me freinds you r never regret after Buying..\\nJust go for it....\\nI love this phone and i switch to iphone x to 11', 'It is just awesome mobile for this price from Apple,\\n\\nAfter 10 days review\\n\\nBattery enough for 1 day even 24*7 Internet will be on and mostly internet usage\\n\\nCamera is just awesome cool , android 64 MP is equal to this just 12 MP\\n\\nA13 Bionic chip will give more high performance without hanging\\n\\nAudio stereo speakers will give Dolby atoms sound with crystal clear\\n\\nVideo recording is like cinematic shots of every sec can be a 4K 60fps. Just awesome this phone\\niPhone 11 loved one', 'iphone 11 is a very good phone to buy only if you can compromise for the display. The display on this is device is pretty good but you can get other options with better displays in this price segment.\\nIf you can survive with an HD+ LCD panel with thicker bezels and a notch up top then this is a very good phone for you.\\nCameras are awesome, battery backup excellent, great performance and a decent premium look. Good job Apple !', \"Just got this iphone 11\\nAnd it is most powerful mobile phone I have used ever\\n\\nSo,go for it if you want a phone with best specification like camera,battery backup,display, A13 bionic chip\\n\\nThat's my review about this phone but yours can be differ from me....\", 'Really satisfied with the Product I received... It’s totally genuine and the packaging was also really good so if ur planning to buy just go for it.', 'Amazing phone with great cameras and better battery which gives you the best performance. I just love the camera .', 'Great iPhone very snappy experience as apple kind. Upgraded from iPhone 7.\\nPros\\n-Camera top class\\n- Battery top performed\\n-Chipset no need to say as apple kind\\n-Security as you expect from apple\\n- Display super bright industry leading colour\\naccuracy and super responsive\\n-Build quality as expect from apple sturdy\\npremium durable beautiful stylish.\\n-Os most stable os in smartphone industry\\n\\nCons\\n-No 5G\\n-Display is not based on OLED technology\\n-Charger headphones and 1 apple stic...\\nREAD MORE', \"I'm Really happy with the product\\nDelivery was fast as well\\n..it was a gift for my sister and she loved it so much.\", \"It's my first time to use iOS phone and I am loving my upgradation 😍😍 I love the color, I love the assebility of the phone....I need to learn more about its functionality, but as far as I have seen, it's quite easy and it has a lot of functions to work on, specially if you are a content writer or a blogger you get a lot of content creation platforms and they are really amazing.\\n\\nThis phone not only for good quality photography but a lot of other task too.😍💯\", 'Previously I was using one plus 3t it was a great phone\\nAnd then I decided to upgrade I am stuck between Samsung s10 plus or iPhone 11\\nI have seen the specs and everything were good except the display it’s somewhere between 720-1080 and it’s not even an amoled it’s an LCD display\\nBut I decided to go with iPhone because I have never used an IOS device I have Been an android user from the past 9 years I ordered IPhone 11 (128gb) product red\\nMy experience after using 3 weeks\\n1. The delivery ...\\nREAD MORE', 'Value for money\\n5 star rating\\nExcellent camera\\nBattery backup full day in single charge.\\n\\nTougher and water resistant design, glossy back.\\nThe screen has excellent brightness and contrast.\\nApple A13 Bionic is the fastest smartphone chip on the planet.\\nExcellent battery life, fast charging support.\\nStereo speakers with great quality.', 'What a camera .....just awesome ..you can feel this iPhone just awesome . Good for gaming also ...try pubg in hd it’s just wow', 'Amazing Powerful and Durable Gadget.\\n\\nI’m am very happy with the camera picture quality, Amazing face id unlocked in dark room, Strong battery with perfect screen size as you can carry easily in pocket. This is my third iPhone.\\n\\nI shifted from android Samsung Note series to iPhone because of the strong build quality and peace of mind for next 3-4 years.\\n\\nDon’t think to much just go for it and I suggest you to go for minimum 128gb variant or more 256gb.\\n\\nI’ve attached my puppy pics and no fi...\\nREAD MORE', 'This is my first iOS phone. I am very happy with this product. Very much satisfied with this. I love this phone.', 'This is my first iOS phone. I am very happy with this product. Very much satisfied with this. I love this phone.', 'Best and amazing product.....phone looks so premium.... battary is also good as expected .... Wide angle camera is so addictive ...if you are a IOS lover....then this phone will be the best choice for you all!!💯🔥', 'i11 is worthy to buy, too much happy with the product. Thank u flipkart I received the item on time..loved it..', 'Thanks Flipkart For this amazing deal! I had a dream of owning a iphone since i had known about.\\nIm very happy with my purchase & it is totally worth it.\\nAmazing experience all over !!\\n\\nAnyone who’s thinking of buying it in 2021, i would simply say go for it without any second thoughts ❤️', 'So far it’s been an AMAZING experience coming back to iOS after nearly a decade but it’s not as versatile as android though phone is sturdy dropped it accidentally a couple of times and nothing happened fortunately camera is awesome', 'It’s a must buy who is looking for an upgrade from previous generation of iPhones. If you are using XR then still you can hold on for sometime and upgrade to 2020 model else this phone is a must buy . Camera quality is amazing and wide angle is something to count upon. Performance wise it’s amazing and feels premium while holding in hand. So a big YES for this device. Go for 128 GB variant as the 4K videos will occupy lots of space and the storage can get over very quickly. Try to buy it with...\\nREAD MORE', 'Value for money❤️❤️\\nIts awesome mobile phone in the world ...\\nDisplay was very good and bright ..\\nTrust me freinds you r never regret after Buying..\\nJust go for it....\\nI love this phone and i switch to iphone x to 11', 'It is just awesome mobile for this price from Apple,\\n\\nAfter 10 days review\\n\\nBattery enough for 1 day even 24*7 Internet will be on and mostly internet usage\\n\\nCamera is just awesome cool , android 64 MP is equal to this just 12 MP\\n\\nA13 Bionic chip will give more high performance without hanging\\n\\nAudio stereo speakers will give Dolby atoms sound with crystal clear\\n\\nVideo recording is like cinematic shots of every sec can be a 4K 60fps. Just awesome this phone\\niPhone 11 loved one', 'iphone 11 is a very good phone to buy only if you can compromise for the display. The display on this is device is pretty good but you can get other options with better displays in this price segment.\\nIf you can survive with an HD+ LCD panel with thicker bezels and a notch up top then this is a very good phone for you.\\nCameras are awesome, battery backup excellent, great performance and a decent premium look. Good job Apple !', \"Just got this iphone 11\\nAnd it is most powerful mobile phone I have used ever\\n\\nSo,go for it if you want a phone with best specification like camera,battery backup,display, A13 bionic chip\\n\\nThat's my review about this phone but yours can be differ from me....\"]\n"
     ]
    }
   ],
   "source": [
    "start = 0\n",
    "end = 10\n",
    "for page in range (0, 10):\n",
    "    rattings = review_driver.find_elements(By.XPATH, \"//div[@class = '_3LWZlK _1BLPMq']\")\n",
    "    reviews = review_driver.find_elements(By.XPATH, \"//p[@class = '_2-N8zT']\")\n",
    "    full_reviews = review_driver.find_elements(By.XPATH, \"//div[@class = 't-ZTKy']\")\n",
    "    \n",
    "    for i in rattings[0:100]:\n",
    "        ratting.append(i.text)\n",
    "        if len(ratting) == 100:\n",
    "            break\n",
    "        \n",
    "    for i in reviews[0:100]:\n",
    "        review_summary.append(i.text)\n",
    "        if len(review_summary) == 100:\n",
    "            break\n",
    "    \n",
    "    for i in full_reviews[0:100]:\n",
    "        full_review.append(i.text)\n",
    "        if len(full_review) == 100:\n",
    "            break\n",
    "    \n",
    "    next_button = review_driver.find_element(By.XPATH, \"//a[@class = '_1LKTO3']/span\")\n",
    "    next_button.click()\n",
    "    time.sleep(4)\n",
    "print(ratting)\n",
    "print(review_summary)\n",
    "print(full_review)\n",
    "    #review_driver.find_element"
   ]
  },
  {
   "cell_type": "markdown",
   "metadata": {},
   "source": [
    "Q6: Scrape data for first 100 sneakers you find when you visit flipkart.com and search for “sneakers” in the\n",
    "search field"
   ]
  },
  {
   "cell_type": "code",
   "execution_count": 56,
   "metadata": {},
   "outputs": [],
   "source": [
    "sn_driver = webdriver.Chrome(r\"D:\\Amir Ali\\E Drive data\\Software\\Chrome web driver\\chromedriver\")"
   ]
  },
  {
   "cell_type": "code",
   "execution_count": 57,
   "metadata": {},
   "outputs": [],
   "source": [
    "sn_driver.get(\"https://www.flipkart.com/\")\n",
    "time.sleep(2)"
   ]
  },
  {
   "cell_type": "code",
   "execution_count": 58,
   "metadata": {},
   "outputs": [],
   "source": [
    "close_r_w = sn_driver.find_element(By.XPATH,\"/html/body/div[2]/div/div/button\")\n",
    "close_r_w.click()"
   ]
  },
  {
   "cell_type": "markdown",
   "metadata": {},
   "source": [
    "search “sneakers”"
   ]
  },
  {
   "cell_type": "code",
   "execution_count": 59,
   "metadata": {},
   "outputs": [],
   "source": [
    "search_bar = sn_driver.find_element(By.XPATH,\"//input[@class = '_3704LK']\")\n",
    "search_bar.send_keys(\"Sneaker\")"
   ]
  },
  {
   "cell_type": "code",
   "execution_count": 60,
   "metadata": {},
   "outputs": [],
   "source": [
    "submit_button = sn_driver.find_element(By.XPATH, \"/html/body/div[1]/div/div[1]/div[1]/div[2]/div[2]/form/div/button\")\n",
    "submit_button.click()\n",
    "time.sleep(1)"
   ]
  },
  {
   "cell_type": "markdown",
   "metadata": {},
   "source": [
    "1. Brand\n",
    "2. ProductDescription\n",
    "3. Price"
   ]
  },
  {
   "cell_type": "code",
   "execution_count": 61,
   "metadata": {},
   "outputs": [
    {
     "name": "stdout",
     "output_type": "stream",
     "text": [
      "['BRUTON', 'edisson', 'Kraasa', 'RapidBox', 'ASTEROID', 'aadi', 'PUMA', 'Alquwex', 'aadi', 'aadi', 'BRUTON', 'BRUTON', 'BRUTON', 'TR', 'SCATCHITE', 'RED TAPE', 'BUXBERRY', 'Mast & Harbour', 'Labbin', 'World Wear Footwear', 'BRUTON', 'ECREATION', 'Brainer', 'Rzisbo', 'BRUTON', 'tigonis', 'BRUTON', 'RED TAPE', 'RED TAPE', 'K- FOOTLANCE', 'PUMA', 'Elevarse', 'kardam&sons', 'PUMA', 'KRIPTO', 'RapidBox', 'RED TAPE', 'PUMA', 'Skechers', 'U.S. POLO ASSN.', 'Labbin', 'BRUTON', 'Shozie', 'Labbin', 'aadi', 'Magnolia', 'BRUTON', 'BRUTON', 'BRUTON', 'Shozie', 'BRUTON', 'Nilatin', 'Kzaara', 'ASTEROID', 'BRUTON', 'Shozie', 'BRUTON', 'BRUTON', 'HOTSTYLE', 'BRUTON', 'HOTSTYLE', 'BRUTON', 'BRUTON', 'Robbie jones', 'AAKA style', 'World Wear Footwear', 'BRUTON', 'BRUTON', 'Robbie jones', 'aadi', 'Numenzo', 'PM TRADERS', 'Cross Finger', 'TR', 'BRUTON', 'RED TAPE', 'kainchee factory', 'RED TAPE', 'asian', 'RapidBox']\n",
      "['2 Combo Sneaker Shoes Sneakers For Men', \"001-Original Luxury Branded Fashionable Men's Casual Sn...\", 'Casuals, Canvas, Partywear Sneakers For Men', 'Sneakers For Men', \"Original Luxury Branded Fashionable Men's Casual Walkin...\", 'Sneakers For Men', 'Puma 1948 Mid L Sneakers For Men', 'walking Sneakers For Men', 'Sneakers For Men', '2 Combo Sneaker Shoes Sneakers For Men', 'Men Combo Pack of 2 Sports Shoes & Casual Sneakers For ...', 'Combo Pack of 2 Sports Shoes Running Shoes For Men Snea...', 'Sneakers Sneakers For Men', 'Sneakers For Men', 'Outdoor Trendy Lightweight Casual,Canvas Stylish Partyw...', 'Sneakers For Men', 'Sneakers For Men', '2 Combo Sneaker Shoes Sneakers For Men', 'Sneakers For Men', 'Sneakers For Men', '2 Combo Sneaker Shoes Sneakers For Men', 'Tigonis Casuals For Men Sneakers For Men (White) Sneake...', 'Combo Pack of 2 Casual Shoes Sneakers For Men', 'Sneakers For Men', 'RTE3673 Sneakers For Men', 'Sneakers For Men', 'MAPF1 X-Ray Speed Sneakers For Men', 'Stylish Comfortable shoes Sneakers For Men', 'Canvas Casual Partywear Outdoor Shoes For Boys Sneakers...', 'Smash L Sneakers For Men', 'Sneakers For Men', 'Sneakers For Men', 'Rick Point NU Sneakers For Men', 'UNO - STAND ON AIR Sneakers For Men', 'CLARKIN Sneakers For Men', 'Sneakers For Men', '2 Combo Sneaker Shoes Sneakers For Men', 'Sneakers For Men', 'Sneakers For Men', 'Mesh | Ultralightweight | Comfortable | Breathable Walk...', 'Modern Trendy Sneakers boot Sneakers Sneakers For Men', 'Lattest Sneakers Shoe Sneakers For Men', 'Exclusive Sneaker Shoes Sneakers For Men', 'Modern Trendy Sneakers Shoes Sneakers For Men', 'Sneakers For Men', 'Sneakers For Men', \"Colorblock men's fancy sneakers Korean version white br...\", 'Lightweight Pack Of 1 Trendy Sneakers Sneakers For Men', 'Sneakers For Men', '2 Combo Sneaker Shoes Sneakers For Men', '2 Combo Sneaker Shoes Sneakers For Men', 'Sneakers For Men', 'Modern Trendy Sneakers Shoes Sneakers For Men', 'Stylish & Trendy Sneakers For Men', 'Modern Trendy Shoes Sneakers For Men', 'Modern Trendy Sneakers Shoes Sneakers For Men', 'Sneakers For Men', 'Durable and Comfortable Running Shoes Sneakers For Men', 'Exclusive Affordable Collection of Trendy & Stylish Cas...', '2 Combo Sneaker Shoes Sneakers For Men', '2 Combo Sneaker Shoes Sneakers For Men', 'Sneakers For Men', 'Synthetic| Lightweight| Premiun| Comfort| Summer Tendy|...', 'White Sneaker For Men Sneakers For Men', 'Casual Sneakers For Men', '2 Combo Sneaker Shoes Sneakers For Men', 'Sneakers For Men', 'Classic Sneakers For Men', 'WATERPROOF-05cFULLWHITE Sneakers For Men', 'Sneakers For Men']\n",
      "['₹581', '₹599', '₹449', '₹599', '₹499', '₹399', '₹1,999', '₹999', '₹399', '₹399', '₹684', '₹399', '₹509', '₹389', '₹360', '₹999', '₹499', '₹824', '₹399', '₹259', '₹599', '₹599', '₹399', '₹549', '₹581', '₹474', '₹399', '₹1,299', '₹1,039', '₹449', '₹7,999', '₹299', '₹449', '₹2,627', '₹399', '₹590', '₹1,373', '₹1,519', '₹2,859', '₹1,439', '₹399', '₹581', '₹295', '₹399', '₹359', '₹389', '₹279', '₹581', '₹299', '₹699', '₹299', '₹578', '₹229', '₹494', '₹199', '₹399', '₹581', '₹599', '₹299', '₹358', '₹399', '₹281', '₹266', '₹418', '₹284', '₹259', '₹581', '₹581', '₹418', '₹399', '₹449', '₹449', '₹509', '₹499', '₹581', '₹1,249', '₹449', '₹1,423', '₹631', '₹599']\n"
     ]
    }
   ],
   "source": [
    "#lets create lists to store fetched data\n",
    "Brand = []\n",
    "ProductDescription = []\n",
    "Price = []\n",
    "\n",
    "start = 0\n",
    "end = 3\n",
    "\n",
    "for page in range(start, end):\n",
    "    \n",
    "    brandname = sn_driver.find_elements(By.XPATH, \"//div[@class = '_2WkVRV']\")\n",
    "    product_d = sn_driver.find_elements(By.XPATH, \"//a[@class = 'IRpwTa']\")\n",
    "    prices = sn_driver.find_elements(By.XPATH, \"//div[@class = '_30jeq3']\")\n",
    "    \n",
    "    for i in brandname[0:100]:\n",
    "        Brand.append(i.text)\n",
    "        if len(Brand) == 100:\n",
    "            break\n",
    "    \n",
    "    for i in product_d[0:100]:\n",
    "        ProductDescription.append(i.text)\n",
    "        if len(ProductDescription) == 100:\n",
    "            break\n",
    "        \n",
    "    for i in prices[0:100]:\n",
    "        Price.append(i.text)\n",
    "        if len(Price) == 100:\n",
    "            break\n",
    "    \n",
    "    next_b = sn_driver.find_element(By.XPATH,\"//a[@class = '_1LKTO3']/span\")\n",
    "    next_b.click()\n",
    "    time.sleep(2)\n",
    "    \n",
    "print(Brand)\n",
    "print(ProductDescription)\n",
    "print(Price)\n",
    "\n",
    "    "
   ]
  },
  {
   "cell_type": "markdown",
   "metadata": {},
   "source": [
    "Q7: Go to webpage https://www.amazon.in"
   ]
  },
  {
   "cell_type": "code",
   "execution_count": 62,
   "metadata": {},
   "outputs": [],
   "source": [
    "amz_driver = webdriver.Chrome(r\"D:\\chromedriver\")"
   ]
  },
  {
   "cell_type": "code",
   "execution_count": 63,
   "metadata": {},
   "outputs": [],
   "source": [
    "amz_driver.get(\"https://www.amazon.in/\")\n",
    "time.sleep(3)"
   ]
  },
  {
   "cell_type": "code",
   "execution_count": 64,
   "metadata": {},
   "outputs": [],
   "source": [
    "#Enter “Laptop” in the search field and then click the search icon\n",
    "search_b = amz_driver.find_element(By.XPATH, \"//div[@class = 'nav-search-field ']/input\")\n",
    "search_b.send_keys(\"Laptop\")"
   ]
  },
  {
   "cell_type": "code",
   "execution_count": 65,
   "metadata": {},
   "outputs": [],
   "source": [
    "submit_c = amz_driver.find_element(By.XPATH, \"//div[@class = 'nav-search-submit nav-sprite']\")\n",
    "submit_c.click()\n",
    "time.sleep(2)"
   ]
  },
  {
   "cell_type": "code",
   "execution_count": 66,
   "metadata": {},
   "outputs": [],
   "source": [
    "#Then set CPU Type filter to “Intel Core i7”\n",
    "\n",
    "filter_cpu = amz_driver.find_element(By.XPATH, \"/html/body/div[1]/div[2]/div[1]/div[2]/div/div[3]/span/div[1]/div/div/div[5]/ul[6]/li[12]/span/a/div/label/i\")\n",
    "filter_cpu.click()\n",
    "time.sleep(2)"
   ]
  },
  {
   "cell_type": "markdown",
   "metadata": {},
   "source": [
    "1. Title\n",
    "2. Ratings\n",
    "3. Price\n"
   ]
  },
  {
   "cell_type": "code",
   "execution_count": 67,
   "metadata": {},
   "outputs": [
    {
     "name": "stdout",
     "output_type": "stream",
     "text": [
      "['73,027', '57,928', '18,965', '22,390', '26,424', '18,300', '14,934', '53,490', '20,721', '57,990']\n"
     ]
    }
   ],
   "source": [
    "Title = []\n",
    "Ratting = []\n",
    "Price = []\n",
    "\n",
    "title_tag = amz_driver.find_elements(By.XPATH, \"//span[@class = 'a-size-medium a-color-base a-text-normal']\")\n",
    "for i in title_tag[0:10]:\n",
    "    Title.append(i.text)\n",
    "#print(Title)\n",
    "\n",
    "ratting_tag = amz_driver.find_elements(By.XPATH, \"//span[@class = 'a-size-base']\")\n",
    "for i in ratting_tag:\n",
    "    rate = i.text\n",
    "    Ratting.append(rate)\n",
    "#print(Ratting)\n",
    "\n",
    "prices = amz_driver.find_elements(By.XPATH, \"//span[@class = 'a-price-whole']\")\n",
    "for i in prices[0:10]:\n",
    "    Price.append(i.text)\n",
    "print(Price)"
   ]
  },
  {
   "cell_type": "markdown",
   "metadata": {},
   "source": [
    "Q8: Write a python program to scrape data for Top 1000 Quotes of All Time."
   ]
  },
  {
   "cell_type": "code",
   "execution_count": 68,
   "metadata": {},
   "outputs": [],
   "source": [
    "quote_driver = webdriver.Chrome(r\"D:\\chromedriver\")"
   ]
  },
  {
   "cell_type": "code",
   "execution_count": 69,
   "metadata": {},
   "outputs": [],
   "source": [
    "#1.First get the webpage https://www.azquotes.com/\n",
    "quote_driver.get(\"https://www.azquotes.com/\")\n",
    "time.sleep(2)"
   ]
  },
  {
   "cell_type": "code",
   "execution_count": 70,
   "metadata": {},
   "outputs": [],
   "source": [
    "#2. Click on Top Quotes\n",
    "\n",
    "top_quote = quote_driver.find_element(By.XPATH, \"/html/body/div[1]/div[1]/div[1]/div/div[3]/ul/li[5]/a\")\n",
    "top_quote.click()\n",
    "time.sleep(2)"
   ]
  },
  {
   "cell_type": "markdown",
   "metadata": {},
   "source": [
    "3. Than scrap a) Quote b) Author c) Type Of Quotes"
   ]
  },
  {
   "cell_type": "code",
   "execution_count": 71,
   "metadata": {},
   "outputs": [
    {
     "data": {
      "text/plain": [
       "['The essence of strategy is choosing what not to do.',\n",
       " 'One cannot and must not try to erase the past merely because it does not fit the present.',\n",
       " 'Patriotism means to stand by the country. It does not mean to stand by the president.',\n",
       " 'Death is something inevitable. When a man has done what he considers to be his duty to his people and his country, he can rest in peace. I believe I have made that effort and that is, therefore, why I will sleep for the eternity.',\n",
       " 'You have to love a nation that celebrates its independence every July 4, not with a parade of guns, tanks, and soldiers who file by the White House in a show of strength and muscle, but with family picnics where kids throw Frisbees, the potato salad gets iffy, and the flies die from happiness. You may think you have overeaten, but it is patriotism.',\n",
       " 'Be more concerned with your character than your reputation, because your character is what you really are, while your reputation is merely what others think you are.',\n",
       " 'Weak people revenge. Strong people forgive. Intelligent People Ignore.',\n",
       " \"A mind is like a parachute. It doesn't work if it is not open.\",\n",
       " 'Never be afraid to raise your voice for honesty and truth and compassion against injustice and lying and greed. If people all over the world...would do this, it would change the earth.',\n",
       " 'There are three kinds of men. The one that learns by reading. The few who learn by observation. The rest of them have to pee on the electric fence for themselves.']"
      ]
     },
     "execution_count": 71,
     "metadata": {},
     "output_type": "execute_result"
    }
   ],
   "source": [
    "Quotes_list = []\n",
    "Quotes = quote_driver.find_elements(By.XPATH, \"//a[@class = 'title']\")\n",
    "for i in Quotes[0:10]:\n",
    "    Quotes_list.append(i.text)\n",
    "Quotes_list"
   ]
  },
  {
   "cell_type": "code",
   "execution_count": 72,
   "metadata": {},
   "outputs": [
    {
     "data": {
      "text/plain": [
       "['Michael Porter',\n",
       " 'Golda Meir',\n",
       " 'Theodore Roosevelt',\n",
       " 'Nelson Mandela',\n",
       " 'Erma Bombeck',\n",
       " 'John Wooden',\n",
       " 'Albert Einstein',\n",
       " 'Frank Zappa',\n",
       " 'William Faulkner',\n",
       " 'Will Rogers']"
      ]
     },
     "execution_count": 72,
     "metadata": {},
     "output_type": "execute_result"
    }
   ],
   "source": [
    "Author_list = []\n",
    "authors = quote_driver.find_elements(By.XPATH, \"//div[@class = 'author']/a\")\n",
    "for i in authors[0:10]:\n",
    "    Author_list.append(i.text)\n",
    "Author_list"
   ]
  },
  {
   "cell_type": "code",
   "execution_count": 73,
   "metadata": {},
   "outputs": [
    {
     "data": {
      "text/plain": [
       "['Essence',\n",
       " 'Deep Thought',\n",
       " 'Transcendentalism',\n",
       " 'Inspiration',\n",
       " 'Past',\n",
       " 'Trying',\n",
       " 'Country',\n",
       " 'Peace',\n",
       " 'War',\n",
       " 'Inspirational']"
      ]
     },
     "execution_count": 73,
     "metadata": {},
     "output_type": "execute_result"
    }
   ],
   "source": [
    "type_of_quote = []\n",
    "t_quote = quote_driver.find_elements(By.XPATH, \"//div[@class = 'tags']/a\")\n",
    "for i in t_quote[0:10]:\n",
    "    type_of_quote.append(i.text)\n",
    "type_of_quote"
   ]
  },
  {
   "cell_type": "markdown",
   "metadata": {},
   "source": [
    "Q9: Write a python program to display list of respected former Prime Ministers of India(i.e. Name, Born-Dead,\n",
    "Term of office, Remarks) from https://www.jagranjosh.com/"
   ]
  },
  {
   "cell_type": "code",
   "execution_count": 74,
   "metadata": {},
   "outputs": [],
   "source": [
    "jag_driver = webdriver.Chrome(r\"D:\\chromedriver.exe\")"
   ]
  },
  {
   "cell_type": "markdown",
   "metadata": {},
   "source": [
    "1. First get the webpage https://www.jagranjosh.com/"
   ]
  },
  {
   "cell_type": "code",
   "execution_count": 75,
   "metadata": {},
   "outputs": [],
   "source": [
    "jag_driver.get(\"https://www.jagranjosh.com/\")\n",
    "time.sleep(2)"
   ]
  },
  {
   "cell_type": "markdown",
   "metadata": {},
   "source": [
    "2. Then You have to click on the GK option"
   ]
  },
  {
   "cell_type": "code",
   "execution_count": 76,
   "metadata": {},
   "outputs": [],
   "source": [
    "gkoption = jag_driver.find_element(By.XPATH, \"/html/body/div/div[1]/div/div[1]/div/div[6]/div/div[1]/header/div[3]/ul/li[9]/a\")\n",
    "gkoption.click()\n",
    "time.sleep(2)"
   ]
  },
  {
   "cell_type": "markdown",
   "metadata": {},
   "source": [
    "3. Then click on the List of all Prime Ministers of India"
   ]
  },
  {
   "cell_type": "code",
   "execution_count": 77,
   "metadata": {},
   "outputs": [],
   "source": [
    "PMclick = jag_driver.find_element(By.XPATH, \"/html/body/div[1]/div/div/div[2]/div/div[10]/div/div/ul/li[2]/a\")\n",
    "PMclick.click()\n",
    "time.sleep(2)"
   ]
  },
  {
   "cell_type": "markdown",
   "metadata": {},
   "source": [
    "4. Then scrap the mentioned data and make the DataFrame"
   ]
  },
  {
   "cell_type": "markdown",
   "metadata": {},
   "source": [
    "# I couldnt solve question 9, I tried some ways mentioned at the end of this note book but not able to solve it"
   ]
  },
  {
   "cell_type": "markdown",
   "metadata": {},
   "source": [
    "Q10: Write a python program to display list of 50 Most expensive cars in the world (i.e.\n",
    "Car name ,Description and Price) from https://www.motor1.com/"
   ]
  },
  {
   "cell_type": "code",
   "execution_count": 175,
   "metadata": {},
   "outputs": [],
   "source": [
    "motor_driver = webdriver.Chrome(r\"D:\\chromedriver.exe\")"
   ]
  },
  {
   "cell_type": "code",
   "execution_count": 176,
   "metadata": {},
   "outputs": [],
   "source": [
    "#1. First get the webpage https://www.motor1.com/\n",
    "\n",
    "motor_driver.get(\"https://www.motor1.com/\")\n",
    "time.sleep(2)"
   ]
  },
  {
   "cell_type": "code",
   "execution_count": 177,
   "metadata": {},
   "outputs": [],
   "source": [
    "#2. Then You have to click on the List option from Dropdown menu on leftside.\n",
    "\n",
    "drop_down = motor_driver.find_element(By.XPATH, \"/html/body/div[3]/div[2]/div/div/div[1]/div\")\n",
    "drop_down.click()\n",
    "time.sleep(2)\n",
    "\n",
    "#click on feature\n",
    "feature = motor_driver.find_element(By.XPATH, \"/html/body/div[4]/div[1]/div[3]/ul/li[5]/button\")\n",
    "feature.click()\n",
    "time.sleep(1)\n",
    "\n",
    "#click on list\n",
    "list_click = motor_driver.find_element(By.XPATH, \"/html/body/div[4]/div[1]/div[3]/ul/li[6]/ul/li[1]/a\")\n",
    "list_click.click()\n",
    "time.sleep(1)\n",
    "\n",
    "#click on "
   ]
  },
  {
   "cell_type": "code",
   "execution_count": 178,
   "metadata": {},
   "outputs": [],
   "source": [
    "#3. Then click on 50 most expensive carsin the world..\n",
    "\n",
    "#first click on feature\n",
    "feature = motor_driver.find_element(By.XPATH, \"/html/body/div[3]/div[9]/div[1]/div[1]/div/div/div[2]/div/div[1]/h3/a\")\n",
    "feature.click()\n",
    "time.sleep(1)\n",
    "\n"
   ]
  },
  {
   "cell_type": "code",
   "execution_count": 179,
   "metadata": {},
   "outputs": [
    {
     "name": "stdout",
     "output_type": "stream",
     "text": [
      "['Drako GTE', 'De Tomaso P72', 'Ferrari LaFerrari', 'Pagani Huayra', 'McLaren Elva', 'Czinger 21C', 'Ferrari Monza', 'Gordon Murray T.33', 'Koenigsegg Gemera', 'Zenvo TSR-S', 'Hennessey Venom F5', 'Bentley Bacalar', 'Hispano Suiza Carmen Boulogne', 'Bentley Mulliner Batur', 'Deus Vayanne', 'SSC Tuatara', 'Lotus Evija', 'Aston Martin Vulcan', 'Delage D12', 'McLaren Speedtail', 'Rimac Nevera', 'Pagani Utopia', 'Pininfarina Battista', 'Ferrari FXX K Evo', 'Gordon Murray T.50', 'Lamborghini Countach', 'Mercedes-AMG Project One', 'Aston Martin Victor', 'Hennessey Venom F5 Roadster', 'Koenigsegg Jesko', 'Aston Martin Valkyrie', 'W Motors Lykan Hypersport', 'McLaren Solus', 'Pagani Huayra Roadster BC', 'Bugatti Chiron Pur Sport', 'Lamborghini Sian', 'Koenigsegg CC850', 'Bugatti Chiron Super Sport 300+', 'Lamborghini Veneno', 'Bugatti Bolide', 'Bugatti Mistral', 'Pagani Huayra Imola', 'Bugatti Divo', 'SP Automotive Chaos', 'Pagani Codalunga', 'Mercedes-Maybach Exelero', 'Bugatti Centodieci', 'Rolls-Royce Sweptail', 'Bugatti La Voiture Noire', 'Rolls-Royce Boat Tail*', 'Most Expensive Cars In The World']\n"
     ]
    }
   ],
   "source": [
    "#4. Then scrap the mentioned data and make the\n",
    "car_name = []\n",
    "car_price = []\n",
    "\n",
    "carname = motor_driver.find_elements(By.XPATH, \"//h3[@class = 'subheader']\")\n",
    "for i in carname:\n",
    "    car_name.append(i.text)\n",
    "print(car_name)\n",
    "\n"
   ]
  },
  {
   "cell_type": "code",
   "execution_count": 180,
   "metadata": {},
   "outputs": [
    {
     "name": "stdout",
     "output_type": "stream",
     "text": [
      "Price: $1.2 Million\n",
      "['P']\n"
     ]
    }
   ],
   "source": [
    "carprice = motor_driver.find_elements(By.XPATH, \"/html/body/div[3]/div[7]/div[2]/div[1]/div[2]/div[1]/p[4]/strong\")\n",
    "for i in carprice[0:10]:\n",
    "    print(i.text)\n",
    "    car_price.append(i.text[0])\n",
    "print(car_price)\n"
   ]
  },
  {
   "cell_type": "markdown",
   "metadata": {},
   "source": [
    "# I couldnt solve question 9, I tried below given ways but not able to solve it."
   ]
  },
  {
   "cell_type": "code",
   "execution_count": null,
   "metadata": {},
   "outputs": [],
   "source": [
    "sn_list = []\n",
    "names = []\n",
    "for i in range (1,19):\n",
    "    #print(i)\n",
    "    sn = jag_driver.find_elements(By.XPATH, \"/html/body/div[1]/div[2]/div/div[2]/div/div[1]/div/div/div/div[4]/span/div[2]/table/tbody/tr[1]/th[2]\")\n",
    "#name = jag_driver.find_elements(By.XPATH, \"/html/body/div[1]/div[2]/div/div[2]/div/div[1]/div/div/div/div[4]/span/div[2]/table/tbody/tr[1]/th[4]\")   \n",
    "    for i in sn[0:10]:\n",
    "        sn_list.append(i.text)\n",
    "        \n",
    "# for i in name[0:10]:\n",
    "#     names.append(i.text)\n",
    "# print(names)\n",
    "sn_list\n",
    "\n",
    "\n",
    "sno = jag_driver.find_elements(By.XPATH, \"\")"
   ]
  },
  {
   "cell_type": "code",
   "execution_count": null,
   "metadata": {},
   "outputs": [],
   "source": [
    "from bs4 import BeautifulSoup\n",
    "import requestsests\n",
    "\n",
    "jag_page = requests.get(\"https://www.jagranjosh.com/general-knowledge/list-of-all-prime-ministers-of-india-1473165149-1\")\n",
    "jag_page"
   ]
  },
  {
   "cell_type": "code",
   "execution_count": null,
   "metadata": {},
   "outputs": [],
   "source": [
    "jag_soup = BeautifulSoup(jag_page.content)\n",
    "#jag_soup"
   ]
  },
  {
   "cell_type": "code",
   "execution_count": null,
   "metadata": {},
   "outputs": [],
   "source": [
    "primeminister = jag_soup.find('tbody').find_all('tr').strong.text\n",
    "\n",
    "prime = []\n",
    "\n",
    "# for i in primeminister:\n",
    "#     pm = i.find_all('p').text\n",
    "#     prime.append(pm)\n",
    "print(primeminister)\n"
   ]
  },
  {
   "cell_type": "markdown",
   "metadata": {},
   "source": [
    "# Big Thanks for guidance"
   ]
  },
  {
   "cell_type": "code",
   "execution_count": null,
   "metadata": {},
   "outputs": [],
   "source": []
  }
 ],
 "metadata": {
  "kernelspec": {
   "display_name": "Python 3",
   "language": "python",
   "name": "python3"
  },
  "language_info": {
   "codemirror_mode": {
    "name": "ipython",
    "version": 3
   },
   "file_extension": ".py",
   "mimetype": "text/x-python",
   "name": "python",
   "nbconvert_exporter": "python",
   "pygments_lexer": "ipython3",
   "version": "3.8.5"
  }
 },
 "nbformat": 4,
 "nbformat_minor": 4
}
